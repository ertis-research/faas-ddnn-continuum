{
 "cells": [
  {
   "cell_type": "markdown",
   "metadata": {
    "collapsed": false
   },
   "source": [
    "# Functions on a controlled environment"
   ]
  },
  {
   "cell_type": "markdown",
   "metadata": {
    "collapsed": false
   },
   "source": [
    "## Prelude"
   ]
  },
  {
   "cell_type": "markdown",
   "metadata": {
    "collapsed": false
   },
   "source": [
    "### Imports"
   ]
  },
  {
   "cell_type": "code",
   "execution_count": 1,
   "metadata": {
    "ExecuteTime": {
     "end_time": "2023-04-08T19:31:10.574724Z",
     "start_time": "2023-04-08T19:31:10.499106Z"
    },
    "collapsed": false
   },
   "outputs": [],
   "source": [
    "from util import *\n",
    "import plotly.io as pio\n",
    "import polars as pl"
   ]
  },
  {
   "cell_type": "markdown",
   "metadata": {
    "collapsed": false
   },
   "source": [
    "### Configuration"
   ]
  },
  {
   "cell_type": "code",
   "execution_count": 2,
   "metadata": {
    "ExecuteTime": {
     "end_time": "2023-04-08T19:31:10.669831Z",
     "start_time": "2023-04-08T19:31:10.522313Z"
    }
   },
   "outputs": [],
   "source": [
    "pl.Config.set_fmt_str_lengths(60)\n",
    "pio.templates.default = \"simple_white\""
   ]
  },
  {
   "cell_type": "markdown",
   "metadata": {
    "collapsed": false
   },
   "source": [
    "### Loading the data"
   ]
  },
  {
   "cell_type": "code",
   "execution_count": 3,
   "metadata": {
    "ExecuteTime": {
     "end_time": "2023-04-08T19:31:10.673248Z",
     "start_time": "2023-04-08T19:31:10.547543Z"
    },
    "collapsed": false
   },
   "outputs": [],
   "source": [
    "raw_fission = pl.read_ndjson(\"../ddnn/benchmark/fission-newdeploy-min1.json\").lazy()\n",
    "raw_openfaas = pl.read_ndjson(\"../ddnn/benchmark/openfaas.json\").lazy()"
   ]
  },
  {
   "cell_type": "markdown",
   "metadata": {
    "collapsed": false
   },
   "source": [
    "## Statistical analysis"
   ]
  },
  {
   "cell_type": "markdown",
   "metadata": {
    "collapsed": false
   },
   "source": [
    "### Data normalization"
   ]
  },
  {
   "cell_type": "code",
   "execution_count": 4,
   "metadata": {
    "ExecuteTime": {
     "end_time": "2023-04-08T19:31:10.687924Z",
     "start_time": "2023-04-08T19:31:10.565355Z"
    }
   },
   "outputs": [],
   "source": [
    "fission = normalize_data(raw_fission).collect()\n",
    "openfaas = normalize_data(raw_openfaas).collect()"
   ]
  },
  {
   "cell_type": "code",
   "execution_count": 5,
   "metadata": {
    "ExecuteTime": {
     "end_time": "2023-04-08T19:31:10.700777Z",
     "start_time": "2023-04-08T19:31:10.574968Z"
    }
   },
   "outputs": [
    {
     "data": {
      "text/html": [
       "<div>\n",
       "<style scoped>\n",
       "    .dataframe tbody tr th:only-of-type {\n",
       "        vertical-align: middle;\n",
       "    }\n",
       "\n",
       "    .dataframe tbody tr th {\n",
       "        vertical-align: top;\n",
       "    }\n",
       "\n",
       "    .dataframe thead th {\n",
       "        text-align: right;\n",
       "    }\n",
       "\n",
       "    .dataframe td {\n",
       "        white-space: pre;\n",
       "    }\n",
       "\n",
       "    .dataframe td {\n",
       "        padding-top: 0;\n",
       "    }\n",
       "\n",
       "    .dataframe td {\n",
       "        padding-bottom: 0;\n",
       "    }\n",
       "</style>\n",
       "<table border=\"1\" class=\"dataframe\">\n",
       "<small>shape: (400, 6)</small>\n",
       "<thead>\n",
       "<tr>\n",
       "<th>\n",
       "topic\n",
       "</th>\n",
       "<th>\n",
       "key\n",
       "</th>\n",
       "<th>\n",
       "timestamp\n",
       "</th>\n",
       "<th>\n",
       "first_timestamp\n",
       "</th>\n",
       "<th>\n",
       "difference\n",
       "</th>\n",
       "<th>\n",
       "timestamp_relative\n",
       "</th>\n",
       "</tr>\n",
       "<tr>\n",
       "<td>\n",
       "str\n",
       "</td>\n",
       "<td>\n",
       "str\n",
       "</td>\n",
       "<td>\n",
       "f64\n",
       "</td>\n",
       "<td>\n",
       "f64\n",
       "</td>\n",
       "<td>\n",
       "f64\n",
       "</td>\n",
       "<td>\n",
       "f64\n",
       "</td>\n",
       "</tr>\n",
       "</thead>\n",
       "<tbody>\n",
       "<tr>\n",
       "<td>\n",
       "&quot;fission.inference.edge-output&quot;\n",
       "</td>\n",
       "<td>\n",
       "&quot;e1e9343a-2677-409b-96b3-9561392d440a&quot;\n",
       "</td>\n",
       "<td>\n",
       "1.6802e9\n",
       "</td>\n",
       "<td>\n",
       "1.6802e9\n",
       "</td>\n",
       "<td>\n",
       "7.807814\n",
       "</td>\n",
       "<td>\n",
       "0.0\n",
       "</td>\n",
       "</tr>\n",
       "<tr>\n",
       "<td>\n",
       "&quot;fission.inference.edge-output&quot;\n",
       "</td>\n",
       "<td>\n",
       "&quot;3c499376-2956-443f-bd46-d312cc4c17f5&quot;\n",
       "</td>\n",
       "<td>\n",
       "1.6802e9\n",
       "</td>\n",
       "<td>\n",
       "1.6802e9\n",
       "</td>\n",
       "<td>\n",
       "12.087614\n",
       "</td>\n",
       "<td>\n",
       "6.422\n",
       "</td>\n",
       "</tr>\n",
       "<tr>\n",
       "<td>\n",
       "&quot;fission.inference.edge-output&quot;\n",
       "</td>\n",
       "<td>\n",
       "&quot;8de63db6-094f-4838-aac0-458a17c464e1&quot;\n",
       "</td>\n",
       "<td>\n",
       "1.6802e9\n",
       "</td>\n",
       "<td>\n",
       "1.6802e9\n",
       "</td>\n",
       "<td>\n",
       "17.289652\n",
       "</td>\n",
       "<td>\n",
       "14.681\n",
       "</td>\n",
       "</tr>\n",
       "<tr>\n",
       "<td>\n",
       "&quot;fission.inference.edge-output&quot;\n",
       "</td>\n",
       "<td>\n",
       "&quot;be31f95f-23cc-439b-a6c4-2f0843b30a0d&quot;\n",
       "</td>\n",
       "<td>\n",
       "1.6802e9\n",
       "</td>\n",
       "<td>\n",
       "1.6802e9\n",
       "</td>\n",
       "<td>\n",
       "24.461999\n",
       "</td>\n",
       "<td>\n",
       "25.921\n",
       "</td>\n",
       "</tr>\n",
       "<tr>\n",
       "<td>\n",
       "&quot;fission.inference.edge-output&quot;\n",
       "</td>\n",
       "<td>\n",
       "&quot;9be237d9-1190-4378-a504-885fba3f1698&quot;\n",
       "</td>\n",
       "<td>\n",
       "1.6802e9\n",
       "</td>\n",
       "<td>\n",
       "1.6802e9\n",
       "</td>\n",
       "<td>\n",
       "33.038876\n",
       "</td>\n",
       "<td>\n",
       "39.618\n",
       "</td>\n",
       "</tr>\n",
       "<tr>\n",
       "<td>\n",
       "&quot;fission.inference.edge-output&quot;\n",
       "</td>\n",
       "<td>\n",
       "&quot;7ec0f783-4389-451e-b1b1-3b69348864d9&quot;\n",
       "</td>\n",
       "<td>\n",
       "1.6802e9\n",
       "</td>\n",
       "<td>\n",
       "1.6802e9\n",
       "</td>\n",
       "<td>\n",
       "34.840737\n",
       "</td>\n",
       "<td>\n",
       "42.441\n",
       "</td>\n",
       "</tr>\n",
       "<tr>\n",
       "<td>\n",
       "&quot;fission.inference.edge-output&quot;\n",
       "</td>\n",
       "<td>\n",
       "&quot;4dfb3181-890d-46ed-8685-23801f06aa80&quot;\n",
       "</td>\n",
       "<td>\n",
       "1.6802e9\n",
       "</td>\n",
       "<td>\n",
       "1.6802e9\n",
       "</td>\n",
       "<td>\n",
       "38.475195\n",
       "</td>\n",
       "<td>\n",
       "48.125\n",
       "</td>\n",
       "</tr>\n",
       "<tr>\n",
       "<td>\n",
       "&quot;fission.inference.edge-output&quot;\n",
       "</td>\n",
       "<td>\n",
       "&quot;7edbae7d-eca2-4faf-a6ee-62e3c3bfeb7c&quot;\n",
       "</td>\n",
       "<td>\n",
       "1.6802e9\n",
       "</td>\n",
       "<td>\n",
       "1.6802e9\n",
       "</td>\n",
       "<td>\n",
       "43.907786\n",
       "</td>\n",
       "<td>\n",
       "56.63\n",
       "</td>\n",
       "</tr>\n",
       "<tr>\n",
       "<td>\n",
       "&quot;fission.inference.edge-output&quot;\n",
       "</td>\n",
       "<td>\n",
       "&quot;c6d345ce-2d98-4938-a21e-ca84f1cdc6db&quot;\n",
       "</td>\n",
       "<td>\n",
       "1.6802e9\n",
       "</td>\n",
       "<td>\n",
       "1.6802e9\n",
       "</td>\n",
       "<td>\n",
       "49.084837\n",
       "</td>\n",
       "<td>\n",
       "64.864\n",
       "</td>\n",
       "</tr>\n",
       "<tr>\n",
       "<td>\n",
       "&quot;fission.inference.edge-output&quot;\n",
       "</td>\n",
       "<td>\n",
       "&quot;d8f54ecf-d767-447a-b976-41179b652471&quot;\n",
       "</td>\n",
       "<td>\n",
       "1.6802e9\n",
       "</td>\n",
       "<td>\n",
       "1.6802e9\n",
       "</td>\n",
       "<td>\n",
       "54.39754\n",
       "</td>\n",
       "<td>\n",
       "73.253\n",
       "</td>\n",
       "</tr>\n",
       "<tr>\n",
       "<td>\n",
       "&quot;fission.inference.edge-output&quot;\n",
       "</td>\n",
       "<td>\n",
       "&quot;540665c3-de5c-412d-bd31-df4a82118aee&quot;\n",
       "</td>\n",
       "<td>\n",
       "1.6802e9\n",
       "</td>\n",
       "<td>\n",
       "1.6802e9\n",
       "</td>\n",
       "<td>\n",
       "59.703177\n",
       "</td>\n",
       "<td>\n",
       "81.621\n",
       "</td>\n",
       "</tr>\n",
       "<tr>\n",
       "<td>\n",
       "&quot;fission.inference.edge-output&quot;\n",
       "</td>\n",
       "<td>\n",
       "&quot;79916fb7-4270-40ca-bbf7-84811b76decc&quot;\n",
       "</td>\n",
       "<td>\n",
       "1.6802e9\n",
       "</td>\n",
       "<td>\n",
       "1.6802e9\n",
       "</td>\n",
       "<td>\n",
       "61.384168\n",
       "</td>\n",
       "<td>\n",
       "84.324\n",
       "</td>\n",
       "</tr>\n",
       "<tr>\n",
       "<td>\n",
       "...\n",
       "</td>\n",
       "<td>\n",
       "...\n",
       "</td>\n",
       "<td>\n",
       "...\n",
       "</td>\n",
       "<td>\n",
       "...\n",
       "</td>\n",
       "<td>\n",
       "...\n",
       "</td>\n",
       "<td>\n",
       "...\n",
       "</td>\n",
       "</tr>\n",
       "<tr>\n",
       "<td>\n",
       "&quot;fission.inference.cloud-output&quot;\n",
       "</td>\n",
       "<td>\n",
       "&quot;66a1fb6a-c7fd-4138-a5eb-3db7fc758d48&quot;\n",
       "</td>\n",
       "<td>\n",
       "1.6802e9\n",
       "</td>\n",
       "<td>\n",
       "1.6802e9\n",
       "</td>\n",
       "<td>\n",
       "867.379417\n",
       "</td>\n",
       "<td>\n",
       "1070.095\n",
       "</td>\n",
       "</tr>\n",
       "<tr>\n",
       "<td>\n",
       "&quot;fission.inference.cloud-output&quot;\n",
       "</td>\n",
       "<td>\n",
       "&quot;c3874a56-66be-481d-b675-e82eae6aaf72&quot;\n",
       "</td>\n",
       "<td>\n",
       "1.6802e9\n",
       "</td>\n",
       "<td>\n",
       "1.6802e9\n",
       "</td>\n",
       "<td>\n",
       "869.720939\n",
       "</td>\n",
       "<td>\n",
       "1072.709\n",
       "</td>\n",
       "</tr>\n",
       "<tr>\n",
       "<td>\n",
       "&quot;fission.inference.cloud-output&quot;\n",
       "</td>\n",
       "<td>\n",
       "&quot;d294e0b4-864b-4a0e-a92a-ef3d44030f50&quot;\n",
       "</td>\n",
       "<td>\n",
       "1.6802e9\n",
       "</td>\n",
       "<td>\n",
       "1.6802e9\n",
       "</td>\n",
       "<td>\n",
       "877.510802\n",
       "</td>\n",
       "<td>\n",
       "1081.309\n",
       "</td>\n",
       "</tr>\n",
       "<tr>\n",
       "<td>\n",
       "&quot;fission.inference.cloud-output&quot;\n",
       "</td>\n",
       "<td>\n",
       "&quot;583c2bdb-e1ac-4806-a204-6ad977d14b11&quot;\n",
       "</td>\n",
       "<td>\n",
       "1.6802e9\n",
       "</td>\n",
       "<td>\n",
       "1.6802e9\n",
       "</td>\n",
       "<td>\n",
       "880.117786\n",
       "</td>\n",
       "<td>\n",
       "1084.188\n",
       "</td>\n",
       "</tr>\n",
       "<tr>\n",
       "<td>\n",
       "&quot;fission.inference.cloud-output&quot;\n",
       "</td>\n",
       "<td>\n",
       "&quot;472dedab-1fd6-4892-bed1-23c448422c75&quot;\n",
       "</td>\n",
       "<td>\n",
       "1.6802e9\n",
       "</td>\n",
       "<td>\n",
       "1.6802e9\n",
       "</td>\n",
       "<td>\n",
       "885.180001\n",
       "</td>\n",
       "<td>\n",
       "1089.791\n",
       "</td>\n",
       "</tr>\n",
       "<tr>\n",
       "<td>\n",
       "&quot;fission.inference.cloud-output&quot;\n",
       "</td>\n",
       "<td>\n",
       "&quot;f44e9b7f-a55b-4786-bd28-4015740495be&quot;\n",
       "</td>\n",
       "<td>\n",
       "1.6802e9\n",
       "</td>\n",
       "<td>\n",
       "1.6802e9\n",
       "</td>\n",
       "<td>\n",
       "887.704529\n",
       "</td>\n",
       "<td>\n",
       "1092.59\n",
       "</td>\n",
       "</tr>\n",
       "<tr>\n",
       "<td>\n",
       "&quot;fission.inference.cloud-output&quot;\n",
       "</td>\n",
       "<td>\n",
       "&quot;24b0b126-a56b-44a4-b826-138414141ee0&quot;\n",
       "</td>\n",
       "<td>\n",
       "1.6802e9\n",
       "</td>\n",
       "<td>\n",
       "1.6802e9\n",
       "</td>\n",
       "<td>\n",
       "895.191995\n",
       "</td>\n",
       "<td>\n",
       "1100.894\n",
       "</td>\n",
       "</tr>\n",
       "<tr>\n",
       "<td>\n",
       "&quot;fission.inference.cloud-output&quot;\n",
       "</td>\n",
       "<td>\n",
       "&quot;d6f751cb-4ad5-4f97-9a55-7cfe82629124&quot;\n",
       "</td>\n",
       "<td>\n",
       "1.6802e9\n",
       "</td>\n",
       "<td>\n",
       "1.6802e9\n",
       "</td>\n",
       "<td>\n",
       "902.599278\n",
       "</td>\n",
       "<td>\n",
       "1109.109\n",
       "</td>\n",
       "</tr>\n",
       "<tr>\n",
       "<td>\n",
       "&quot;fission.inference.cloud-output&quot;\n",
       "</td>\n",
       "<td>\n",
       "&quot;26e71b7b-a277-488b-baf7-a055abec35da&quot;\n",
       "</td>\n",
       "<td>\n",
       "1.6802e9\n",
       "</td>\n",
       "<td>\n",
       "1.6802e9\n",
       "</td>\n",
       "<td>\n",
       "905.30709\n",
       "</td>\n",
       "<td>\n",
       "1112.09\n",
       "</td>\n",
       "</tr>\n",
       "<tr>\n",
       "<td>\n",
       "&quot;fission.inference.cloud-output&quot;\n",
       "</td>\n",
       "<td>\n",
       "&quot;31450d76-c848-4c89-a1dc-aecf9a5d3ce9&quot;\n",
       "</td>\n",
       "<td>\n",
       "1.6802e9\n",
       "</td>\n",
       "<td>\n",
       "1.6802e9\n",
       "</td>\n",
       "<td>\n",
       "912.999888\n",
       "</td>\n",
       "<td>\n",
       "1120.597\n",
       "</td>\n",
       "</tr>\n",
       "<tr>\n",
       "<td>\n",
       "&quot;fission.inference.cloud-output&quot;\n",
       "</td>\n",
       "<td>\n",
       "&quot;83c9cc87-032b-458c-82f5-ead65e6ceed7&quot;\n",
       "</td>\n",
       "<td>\n",
       "1.6802e9\n",
       "</td>\n",
       "<td>\n",
       "1.6802e9\n",
       "</td>\n",
       "<td>\n",
       "917.957515\n",
       "</td>\n",
       "<td>\n",
       "1126.094\n",
       "</td>\n",
       "</tr>\n",
       "<tr>\n",
       "<td>\n",
       "&quot;fission.inference.cloud-output&quot;\n",
       "</td>\n",
       "<td>\n",
       "&quot;baaaef8c-46e8-4123-8caf-21e1e5a909dd&quot;\n",
       "</td>\n",
       "<td>\n",
       "1.6802e9\n",
       "</td>\n",
       "<td>\n",
       "1.6802e9\n",
       "</td>\n",
       "<td>\n",
       "920.493501\n",
       "</td>\n",
       "<td>\n",
       "1128.896\n",
       "</td>\n",
       "</tr>\n",
       "</tbody>\n",
       "</table>\n",
       "</div>"
      ],
      "text/plain": [
       "shape: (400, 6)\n",
       "┌──────────────────┬──────────────────┬───────────┬─────────────────┬────────────┬─────────────────┐\n",
       "│ topic            ┆ key              ┆ timestamp ┆ first_timestamp ┆ difference ┆ timestamp_relat │\n",
       "│ ---              ┆ ---              ┆ ---       ┆ ---             ┆ ---        ┆ ive             │\n",
       "│ str              ┆ str              ┆ f64       ┆ f64             ┆ f64        ┆ ---             │\n",
       "│                  ┆                  ┆           ┆                 ┆            ┆ f64             │\n",
       "╞══════════════════╪══════════════════╪═══════════╪═════════════════╪════════════╪═════════════════╡\n",
       "│ fission.inferenc ┆ e1e9343a-2677-40 ┆ 1.6802e9  ┆ 1.6802e9        ┆ 7.807814   ┆ 0.0             │\n",
       "│ e.edge-output    ┆ 9b-96b3-9561392d ┆           ┆                 ┆            ┆                 │\n",
       "│                  ┆ 440a             ┆           ┆                 ┆            ┆                 │\n",
       "│ fission.inferenc ┆ 3c499376-2956-44 ┆ 1.6802e9  ┆ 1.6802e9        ┆ 12.087614  ┆ 6.422           │\n",
       "│ e.edge-output    ┆ 3f-bd46-d312cc4c ┆           ┆                 ┆            ┆                 │\n",
       "│                  ┆ 17f5             ┆           ┆                 ┆            ┆                 │\n",
       "│ fission.inferenc ┆ 8de63db6-094f-48 ┆ 1.6802e9  ┆ 1.6802e9        ┆ 17.289652  ┆ 14.681          │\n",
       "│ e.edge-output    ┆ 38-aac0-458a17c4 ┆           ┆                 ┆            ┆                 │\n",
       "│                  ┆ 64e1             ┆           ┆                 ┆            ┆                 │\n",
       "│ fission.inferenc ┆ be31f95f-23cc-43 ┆ 1.6802e9  ┆ 1.6802e9        ┆ 24.461999  ┆ 25.921          │\n",
       "│ e.edge-output    ┆ 9b-a6c4-2f0843b3 ┆           ┆                 ┆            ┆                 │\n",
       "│                  ┆ 0a0d             ┆           ┆                 ┆            ┆                 │\n",
       "│ ...              ┆ ...              ┆ ...       ┆ ...             ┆ ...        ┆ ...             │\n",
       "│ fission.inferenc ┆ 26e71b7b-a277-48 ┆ 1.6802e9  ┆ 1.6802e9        ┆ 905.30709  ┆ 1112.09         │\n",
       "│ e.cloud-output   ┆ 8b-baf7-a055abec ┆           ┆                 ┆            ┆                 │\n",
       "│                  ┆ 35da             ┆           ┆                 ┆            ┆                 │\n",
       "│ fission.inferenc ┆ 31450d76-c848-4c ┆ 1.6802e9  ┆ 1.6802e9        ┆ 912.999888 ┆ 1120.597        │\n",
       "│ e.cloud-output   ┆ 89-a1dc-aecf9a5d ┆           ┆                 ┆            ┆                 │\n",
       "│                  ┆ 3ce9             ┆           ┆                 ┆            ┆                 │\n",
       "│ fission.inferenc ┆ 83c9cc87-032b-45 ┆ 1.6802e9  ┆ 1.6802e9        ┆ 917.957515 ┆ 1126.094        │\n",
       "│ e.cloud-output   ┆ 8c-82f5-ead65e6c ┆           ┆                 ┆            ┆                 │\n",
       "│                  ┆ eed7             ┆           ┆                 ┆            ┆                 │\n",
       "│ fission.inferenc ┆ baaaef8c-46e8-41 ┆ 1.6802e9  ┆ 1.6802e9        ┆ 920.493501 ┆ 1128.896        │\n",
       "│ e.cloud-output   ┆ 23-8caf-21e1e5a9 ┆           ┆                 ┆            ┆                 │\n",
       "│                  ┆ 09dd             ┆           ┆                 ┆            ┆                 │\n",
       "└──────────────────┴──────────────────┴───────────┴─────────────────┴────────────┴─────────────────┘"
      ]
     },
     "execution_count": 5,
     "metadata": {},
     "output_type": "execute_result"
    }
   ],
   "source": [
    "fission"
   ]
  },
  {
   "cell_type": "code",
   "execution_count": 6,
   "metadata": {
    "ExecuteTime": {
     "end_time": "2023-04-08T19:31:10.701065Z",
     "start_time": "2023-04-08T19:31:10.592077Z"
    }
   },
   "outputs": [
    {
     "data": {
      "text/html": [
       "<div>\n",
       "<style scoped>\n",
       "    .dataframe tbody tr th:only-of-type {\n",
       "        vertical-align: middle;\n",
       "    }\n",
       "\n",
       "    .dataframe tbody tr th {\n",
       "        vertical-align: top;\n",
       "    }\n",
       "\n",
       "    .dataframe thead th {\n",
       "        text-align: right;\n",
       "    }\n",
       "\n",
       "    .dataframe td {\n",
       "        white-space: pre;\n",
       "    }\n",
       "\n",
       "    .dataframe td {\n",
       "        padding-top: 0;\n",
       "    }\n",
       "\n",
       "    .dataframe td {\n",
       "        padding-bottom: 0;\n",
       "    }\n",
       "</style>\n",
       "<table border=\"1\" class=\"dataframe\">\n",
       "<small>shape: (400, 6)</small>\n",
       "<thead>\n",
       "<tr>\n",
       "<th>\n",
       "topic\n",
       "</th>\n",
       "<th>\n",
       "key\n",
       "</th>\n",
       "<th>\n",
       "timestamp\n",
       "</th>\n",
       "<th>\n",
       "first_timestamp\n",
       "</th>\n",
       "<th>\n",
       "difference\n",
       "</th>\n",
       "<th>\n",
       "timestamp_relative\n",
       "</th>\n",
       "</tr>\n",
       "<tr>\n",
       "<td>\n",
       "str\n",
       "</td>\n",
       "<td>\n",
       "str\n",
       "</td>\n",
       "<td>\n",
       "f64\n",
       "</td>\n",
       "<td>\n",
       "f64\n",
       "</td>\n",
       "<td>\n",
       "f64\n",
       "</td>\n",
       "<td>\n",
       "f64\n",
       "</td>\n",
       "</tr>\n",
       "</thead>\n",
       "<tbody>\n",
       "<tr>\n",
       "<td>\n",
       "&quot;openfaas.inference.fog-output&quot;\n",
       "</td>\n",
       "<td>\n",
       "&quot;6da83bdb-9d3b-4a9f-99ec-fccb53e23fbd&quot;\n",
       "</td>\n",
       "<td>\n",
       "1.6797e9\n",
       "</td>\n",
       "<td>\n",
       "1.6797e9\n",
       "</td>\n",
       "<td>\n",
       "30.871266\n",
       "</td>\n",
       "<td>\n",
       "43.089\n",
       "</td>\n",
       "</tr>\n",
       "<tr>\n",
       "<td>\n",
       "&quot;openfaas.inference.fog-output&quot;\n",
       "</td>\n",
       "<td>\n",
       "&quot;07bf3992-41d1-43c7-84b0-9d514dd70bac&quot;\n",
       "</td>\n",
       "<td>\n",
       "1.6797e9\n",
       "</td>\n",
       "<td>\n",
       "1.6797e9\n",
       "</td>\n",
       "<td>\n",
       "45.459902\n",
       "</td>\n",
       "<td>\n",
       "65.843\n",
       "</td>\n",
       "</tr>\n",
       "<tr>\n",
       "<td>\n",
       "&quot;openfaas.inference.fog-output&quot;\n",
       "</td>\n",
       "<td>\n",
       "&quot;bacc51c7-f48f-4d8f-bad3-b979b5e6b408&quot;\n",
       "</td>\n",
       "<td>\n",
       "1.6797e9\n",
       "</td>\n",
       "<td>\n",
       "1.6797e9\n",
       "</td>\n",
       "<td>\n",
       "65.457677\n",
       "</td>\n",
       "<td>\n",
       "97.061\n",
       "</td>\n",
       "</tr>\n",
       "<tr>\n",
       "<td>\n",
       "&quot;openfaas.inference.fog-output&quot;\n",
       "</td>\n",
       "<td>\n",
       "&quot;83c215e9-2120-4825-89e9-ae408de66d1c&quot;\n",
       "</td>\n",
       "<td>\n",
       "1.6797e9\n",
       "</td>\n",
       "<td>\n",
       "1.6797e9\n",
       "</td>\n",
       "<td>\n",
       "72.707606\n",
       "</td>\n",
       "<td>\n",
       "108.391\n",
       "</td>\n",
       "</tr>\n",
       "<tr>\n",
       "<td>\n",
       "&quot;openfaas.inference.fog-output&quot;\n",
       "</td>\n",
       "<td>\n",
       "&quot;2eb533f2-1baf-44db-beae-a29afe874c21&quot;\n",
       "</td>\n",
       "<td>\n",
       "1.6797e9\n",
       "</td>\n",
       "<td>\n",
       "1.6797e9\n",
       "</td>\n",
       "<td>\n",
       "79.918456\n",
       "</td>\n",
       "<td>\n",
       "119.685\n",
       "</td>\n",
       "</tr>\n",
       "<tr>\n",
       "<td>\n",
       "&quot;openfaas.inference.fog-output&quot;\n",
       "</td>\n",
       "<td>\n",
       "&quot;6bf5e110-578b-4761-b8b9-4741496f0e7d&quot;\n",
       "</td>\n",
       "<td>\n",
       "1.6797e9\n",
       "</td>\n",
       "<td>\n",
       "1.6797e9\n",
       "</td>\n",
       "<td>\n",
       "83.639554\n",
       "</td>\n",
       "<td>\n",
       "125.445\n",
       "</td>\n",
       "</tr>\n",
       "<tr>\n",
       "<td>\n",
       "&quot;openfaas.inference.fog-output&quot;\n",
       "</td>\n",
       "<td>\n",
       "&quot;7c39fb4a-c716-4ce9-9017-06aa5f6cbc2a&quot;\n",
       "</td>\n",
       "<td>\n",
       "1.6797e9\n",
       "</td>\n",
       "<td>\n",
       "1.6797e9\n",
       "</td>\n",
       "<td>\n",
       "85.470508\n",
       "</td>\n",
       "<td>\n",
       "128.292\n",
       "</td>\n",
       "</tr>\n",
       "<tr>\n",
       "<td>\n",
       "&quot;openfaas.inference.fog-output&quot;\n",
       "</td>\n",
       "<td>\n",
       "&quot;50e94775-5c0e-4caa-9c28-dc64cf9460b6&quot;\n",
       "</td>\n",
       "<td>\n",
       "1.6797e9\n",
       "</td>\n",
       "<td>\n",
       "1.6797e9\n",
       "</td>\n",
       "<td>\n",
       "100.102871\n",
       "</td>\n",
       "<td>\n",
       "151.063\n",
       "</td>\n",
       "</tr>\n",
       "<tr>\n",
       "<td>\n",
       "&quot;openfaas.inference.fog-output&quot;\n",
       "</td>\n",
       "<td>\n",
       "&quot;7ea93f59-5e29-4a9e-a34d-a02e3a3d15b0&quot;\n",
       "</td>\n",
       "<td>\n",
       "1.6797e9\n",
       "</td>\n",
       "<td>\n",
       "1.6797e9\n",
       "</td>\n",
       "<td>\n",
       "109.175457\n",
       "</td>\n",
       "<td>\n",
       "165.235\n",
       "</td>\n",
       "</tr>\n",
       "<tr>\n",
       "<td>\n",
       "&quot;openfaas.inference.fog-output&quot;\n",
       "</td>\n",
       "<td>\n",
       "&quot;235301ba-7ab3-458f-820d-bc63d9bf8f68&quot;\n",
       "</td>\n",
       "<td>\n",
       "1.6797e9\n",
       "</td>\n",
       "<td>\n",
       "1.6797e9\n",
       "</td>\n",
       "<td>\n",
       "118.355046\n",
       "</td>\n",
       "<td>\n",
       "179.513\n",
       "</td>\n",
       "</tr>\n",
       "<tr>\n",
       "<td>\n",
       "&quot;openfaas.inference.fog-output&quot;\n",
       "</td>\n",
       "<td>\n",
       "&quot;b1ad42b3-8cd3-4520-9773-05bdd7e90c30&quot;\n",
       "</td>\n",
       "<td>\n",
       "1.6797e9\n",
       "</td>\n",
       "<td>\n",
       "1.6797e9\n",
       "</td>\n",
       "<td>\n",
       "136.679668\n",
       "</td>\n",
       "<td>\n",
       "207.985\n",
       "</td>\n",
       "</tr>\n",
       "<tr>\n",
       "<td>\n",
       "&quot;openfaas.inference.fog-output&quot;\n",
       "</td>\n",
       "<td>\n",
       "&quot;a4d44dad-7bd3-4484-affb-fb19111830be&quot;\n",
       "</td>\n",
       "<td>\n",
       "1.6797e9\n",
       "</td>\n",
       "<td>\n",
       "1.6797e9\n",
       "</td>\n",
       "<td>\n",
       "142.299156\n",
       "</td>\n",
       "<td>\n",
       "216.66\n",
       "</td>\n",
       "</tr>\n",
       "<tr>\n",
       "<td>\n",
       "...\n",
       "</td>\n",
       "<td>\n",
       "...\n",
       "</td>\n",
       "<td>\n",
       "...\n",
       "</td>\n",
       "<td>\n",
       "...\n",
       "</td>\n",
       "<td>\n",
       "...\n",
       "</td>\n",
       "<td>\n",
       "...\n",
       "</td>\n",
       "</tr>\n",
       "<tr>\n",
       "<td>\n",
       "&quot;openfaas.inference.cloud-output&quot;\n",
       "</td>\n",
       "<td>\n",
       "&quot;716ae12e-816f-4f52-9cca-55a7a60feafa&quot;\n",
       "</td>\n",
       "<td>\n",
       "1.6797e9\n",
       "</td>\n",
       "<td>\n",
       "1.6797e9\n",
       "</td>\n",
       "<td>\n",
       "898.231759\n",
       "</td>\n",
       "<td>\n",
       "1108.084\n",
       "</td>\n",
       "</tr>\n",
       "<tr>\n",
       "<td>\n",
       "&quot;openfaas.inference.edge-output&quot;\n",
       "</td>\n",
       "<td>\n",
       "&quot;a08680de-da57-495c-bdd7-b69cf3621cbd&quot;\n",
       "</td>\n",
       "<td>\n",
       "1.6797e9\n",
       "</td>\n",
       "<td>\n",
       "1.6797e9\n",
       "</td>\n",
       "<td>\n",
       "900.574157\n",
       "</td>\n",
       "<td>\n",
       "1110.699\n",
       "</td>\n",
       "</tr>\n",
       "<tr>\n",
       "<td>\n",
       "&quot;openfaas.inference.edge-output&quot;\n",
       "</td>\n",
       "<td>\n",
       "&quot;83c4c06c-d9ef-442a-b7b3-3e28688cf11e&quot;\n",
       "</td>\n",
       "<td>\n",
       "1.6797e9\n",
       "</td>\n",
       "<td>\n",
       "1.6797e9\n",
       "</td>\n",
       "<td>\n",
       "903.206956\n",
       "</td>\n",
       "<td>\n",
       "1113.599\n",
       "</td>\n",
       "</tr>\n",
       "<tr>\n",
       "<td>\n",
       "&quot;openfaas.inference.cloud-output&quot;\n",
       "</td>\n",
       "<td>\n",
       "&quot;2dade614-2f01-4f1b-a668-054a0b165ea6&quot;\n",
       "</td>\n",
       "<td>\n",
       "1.6797e9\n",
       "</td>\n",
       "<td>\n",
       "1.6797e9\n",
       "</td>\n",
       "<td>\n",
       "906.104779\n",
       "</td>\n",
       "<td>\n",
       "1116.764\n",
       "</td>\n",
       "</tr>\n",
       "<tr>\n",
       "<td>\n",
       "&quot;openfaas.inference.cloud-output&quot;\n",
       "</td>\n",
       "<td>\n",
       "&quot;27cb36f6-5c55-4cb2-a949-d0e45149bb48&quot;\n",
       "</td>\n",
       "<td>\n",
       "1.6797e9\n",
       "</td>\n",
       "<td>\n",
       "1.6797e9\n",
       "</td>\n",
       "<td>\n",
       "908.653706\n",
       "</td>\n",
       "<td>\n",
       "1119.577\n",
       "</td>\n",
       "</tr>\n",
       "<tr>\n",
       "<td>\n",
       "&quot;openfaas.inference.edge-output&quot;\n",
       "</td>\n",
       "<td>\n",
       "&quot;66500a6b-b1de-4809-9a20-063440941935&quot;\n",
       "</td>\n",
       "<td>\n",
       "1.6797e9\n",
       "</td>\n",
       "<td>\n",
       "1.6797e9\n",
       "</td>\n",
       "<td>\n",
       "910.919601\n",
       "</td>\n",
       "<td>\n",
       "1122.115\n",
       "</td>\n",
       "</tr>\n",
       "<tr>\n",
       "<td>\n",
       "&quot;openfaas.inference.edge-output&quot;\n",
       "</td>\n",
       "<td>\n",
       "&quot;85a41253-4939-4a0d-99d0-87c29fe52af9&quot;\n",
       "</td>\n",
       "<td>\n",
       "1.6797e9\n",
       "</td>\n",
       "<td>\n",
       "1.6797e9\n",
       "</td>\n",
       "<td>\n",
       "913.444977\n",
       "</td>\n",
       "<td>\n",
       "1124.912\n",
       "</td>\n",
       "</tr>\n",
       "<tr>\n",
       "<td>\n",
       "&quot;openfaas.inference.cloud-output&quot;\n",
       "</td>\n",
       "<td>\n",
       "&quot;c1037b38-cd72-48da-8d4d-9f510cf568fd&quot;\n",
       "</td>\n",
       "<td>\n",
       "1.6797e9\n",
       "</td>\n",
       "<td>\n",
       "1.6797e9\n",
       "</td>\n",
       "<td>\n",
       "916.336783\n",
       "</td>\n",
       "<td>\n",
       "1128.068\n",
       "</td>\n",
       "</tr>\n",
       "<tr>\n",
       "<td>\n",
       "&quot;openfaas.inference.edge-output&quot;\n",
       "</td>\n",
       "<td>\n",
       "&quot;4579bded-a441-4755-abfd-ec81810289a7&quot;\n",
       "</td>\n",
       "<td>\n",
       "1.6797e9\n",
       "</td>\n",
       "<td>\n",
       "1.6797e9\n",
       "</td>\n",
       "<td>\n",
       "918.685412\n",
       "</td>\n",
       "<td>\n",
       "1130.684\n",
       "</td>\n",
       "</tr>\n",
       "<tr>\n",
       "<td>\n",
       "&quot;openfaas.inference.cloud-output&quot;\n",
       "</td>\n",
       "<td>\n",
       "&quot;ea62581a-f16e-4ff9-8f47-960e11610944&quot;\n",
       "</td>\n",
       "<td>\n",
       "1.6797e9\n",
       "</td>\n",
       "<td>\n",
       "1.6797e9\n",
       "</td>\n",
       "<td>\n",
       "921.408246\n",
       "</td>\n",
       "<td>\n",
       "1133.679\n",
       "</td>\n",
       "</tr>\n",
       "<tr>\n",
       "<td>\n",
       "&quot;openfaas.inference.cloud-output&quot;\n",
       "</td>\n",
       "<td>\n",
       "&quot;879d8633-a3dd-478a-9db8-f62888ef5395&quot;\n",
       "</td>\n",
       "<td>\n",
       "1.6797e9\n",
       "</td>\n",
       "<td>\n",
       "1.6797e9\n",
       "</td>\n",
       "<td>\n",
       "924.029098\n",
       "</td>\n",
       "<td>\n",
       "1136.568\n",
       "</td>\n",
       "</tr>\n",
       "<tr>\n",
       "<td>\n",
       "&quot;openfaas.inference.edge-output&quot;\n",
       "</td>\n",
       "<td>\n",
       "&quot;67914ce8-eceb-42af-b48a-036e5a893a6c&quot;\n",
       "</td>\n",
       "<td>\n",
       "1.6797e9\n",
       "</td>\n",
       "<td>\n",
       "1.6797e9\n",
       "</td>\n",
       "<td>\n",
       "926.390378\n",
       "</td>\n",
       "<td>\n",
       "1139.199\n",
       "</td>\n",
       "</tr>\n",
       "</tbody>\n",
       "</table>\n",
       "</div>"
      ],
      "text/plain": [
       "shape: (400, 6)\n",
       "┌──────────────────┬──────────────────┬───────────┬─────────────────┬────────────┬─────────────────┐\n",
       "│ topic            ┆ key              ┆ timestamp ┆ first_timestamp ┆ difference ┆ timestamp_relat │\n",
       "│ ---              ┆ ---              ┆ ---       ┆ ---             ┆ ---        ┆ ive             │\n",
       "│ str              ┆ str              ┆ f64       ┆ f64             ┆ f64        ┆ ---             │\n",
       "│                  ┆                  ┆           ┆                 ┆            ┆ f64             │\n",
       "╞══════════════════╪══════════════════╪═══════════╪═════════════════╪════════════╪═════════════════╡\n",
       "│ openfaas.inferen ┆ 6da83bdb-9d3b-4a ┆ 1.6797e9  ┆ 1.6797e9        ┆ 30.871266  ┆ 43.089          │\n",
       "│ ce.fog-output    ┆ 9f-99ec-fccb53e2 ┆           ┆                 ┆            ┆                 │\n",
       "│                  ┆ 3fbd             ┆           ┆                 ┆            ┆                 │\n",
       "│ openfaas.inferen ┆ 07bf3992-41d1-43 ┆ 1.6797e9  ┆ 1.6797e9        ┆ 45.459902  ┆ 65.843          │\n",
       "│ ce.fog-output    ┆ c7-84b0-9d514dd7 ┆           ┆                 ┆            ┆                 │\n",
       "│                  ┆ 0bac             ┆           ┆                 ┆            ┆                 │\n",
       "│ openfaas.inferen ┆ bacc51c7-f48f-4d ┆ 1.6797e9  ┆ 1.6797e9        ┆ 65.457677  ┆ 97.061          │\n",
       "│ ce.fog-output    ┆ 8f-bad3-b979b5e6 ┆           ┆                 ┆            ┆                 │\n",
       "│                  ┆ b408             ┆           ┆                 ┆            ┆                 │\n",
       "│ openfaas.inferen ┆ 83c215e9-2120-48 ┆ 1.6797e9  ┆ 1.6797e9        ┆ 72.707606  ┆ 108.391         │\n",
       "│ ce.fog-output    ┆ 25-89e9-ae408de6 ┆           ┆                 ┆            ┆                 │\n",
       "│                  ┆ 6d1c             ┆           ┆                 ┆            ┆                 │\n",
       "│ ...              ┆ ...              ┆ ...       ┆ ...             ┆ ...        ┆ ...             │\n",
       "│ openfaas.inferen ┆ 4579bded-a441-47 ┆ 1.6797e9  ┆ 1.6797e9        ┆ 918.685412 ┆ 1130.684        │\n",
       "│ ce.edge-output   ┆ 55-abfd-ec818102 ┆           ┆                 ┆            ┆                 │\n",
       "│                  ┆ 89a7             ┆           ┆                 ┆            ┆                 │\n",
       "│ openfaas.inferen ┆ ea62581a-f16e-4f ┆ 1.6797e9  ┆ 1.6797e9        ┆ 921.408246 ┆ 1133.679        │\n",
       "│ ce.cloud-output  ┆ f9-8f47-960e1161 ┆           ┆                 ┆            ┆                 │\n",
       "│                  ┆ 0944             ┆           ┆                 ┆            ┆                 │\n",
       "│ openfaas.inferen ┆ 879d8633-a3dd-47 ┆ 1.6797e9  ┆ 1.6797e9        ┆ 924.029098 ┆ 1136.568        │\n",
       "│ ce.cloud-output  ┆ 8a-9db8-f62888ef ┆           ┆                 ┆            ┆                 │\n",
       "│                  ┆ 5395             ┆           ┆                 ┆            ┆                 │\n",
       "│ openfaas.inferen ┆ 67914ce8-eceb-42 ┆ 1.6797e9  ┆ 1.6797e9        ┆ 926.390378 ┆ 1139.199        │\n",
       "│ ce.edge-output   ┆ af-b48a-036e5a89 ┆           ┆                 ┆            ┆                 │\n",
       "│                  ┆ 3a6c             ┆           ┆                 ┆            ┆                 │\n",
       "└──────────────────┴──────────────────┴───────────┴─────────────────┴────────────┴─────────────────┘"
      ]
     },
     "execution_count": 6,
     "metadata": {},
     "output_type": "execute_result"
    }
   ],
   "source": [
    "openfaas"
   ]
  },
  {
   "cell_type": "markdown",
   "metadata": {
    "collapsed": false
   },
   "source": [
    "### Basic data analysis"
   ]
  },
  {
   "cell_type": "code",
   "execution_count": 7,
   "metadata": {
    "ExecuteTime": {
     "end_time": "2023-04-08T19:31:10.701222Z",
     "start_time": "2023-04-08T19:31:10.602593Z"
    }
   },
   "outputs": [
    {
     "data": {
      "text/html": [
       "<div>\n",
       "<style scoped>\n",
       "    .dataframe tbody tr th:only-of-type {\n",
       "        vertical-align: middle;\n",
       "    }\n",
       "\n",
       "    .dataframe tbody tr th {\n",
       "        vertical-align: top;\n",
       "    }\n",
       "\n",
       "    .dataframe thead th {\n",
       "        text-align: right;\n",
       "    }\n",
       "\n",
       "    .dataframe td {\n",
       "        white-space: pre;\n",
       "    }\n",
       "\n",
       "    .dataframe td {\n",
       "        padding-top: 0;\n",
       "    }\n",
       "\n",
       "    .dataframe td {\n",
       "        padding-bottom: 0;\n",
       "    }\n",
       "</style>\n",
       "<table border=\"1\" class=\"dataframe\">\n",
       "<small>shape: (5, 7)</small>\n",
       "<thead>\n",
       "<tr>\n",
       "<th>\n",
       "topic\n",
       "</th>\n",
       "<th>\n",
       "max\n",
       "</th>\n",
       "<th>\n",
       "min\n",
       "</th>\n",
       "<th>\n",
       "avg\n",
       "</th>\n",
       "<th>\n",
       "median\n",
       "</th>\n",
       "<th>\n",
       "std\n",
       "</th>\n",
       "<th>\n",
       "samples\n",
       "</th>\n",
       "</tr>\n",
       "<tr>\n",
       "<td>\n",
       "str\n",
       "</td>\n",
       "<td>\n",
       "f64\n",
       "</td>\n",
       "<td>\n",
       "f64\n",
       "</td>\n",
       "<td>\n",
       "f64\n",
       "</td>\n",
       "<td>\n",
       "f64\n",
       "</td>\n",
       "<td>\n",
       "f64\n",
       "</td>\n",
       "<td>\n",
       "u32\n",
       "</td>\n",
       "</tr>\n",
       "</thead>\n",
       "<tbody>\n",
       "<tr>\n",
       "<td>\n",
       "&quot;fission.inference.edge-output&quot;\n",
       "</td>\n",
       "<td>\n",
       "922.803313\n",
       "</td>\n",
       "<td>\n",
       "7.807814\n",
       "</td>\n",
       "<td>\n",
       "438.89212\n",
       "</td>\n",
       "<td>\n",
       "417.61643\n",
       "</td>\n",
       "<td>\n",
       "269.625005\n",
       "</td>\n",
       "<td>\n",
       "200\n",
       "</td>\n",
       "</tr>\n",
       "<tr>\n",
       "<td>\n",
       "&quot;fission.inference.cloud-output&quot;\n",
       "</td>\n",
       "<td>\n",
       "920.493501\n",
       "</td>\n",
       "<td>\n",
       "10.310655\n",
       "</td>\n",
       "<td>\n",
       "430.104251\n",
       "</td>\n",
       "<td>\n",
       "418.006197\n",
       "</td>\n",
       "<td>\n",
       "269.861114\n",
       "</td>\n",
       "<td>\n",
       "200\n",
       "</td>\n",
       "</tr>\n",
       "<tr>\n",
       "<td>\n",
       "&quot;openfaas.inference.fog-output&quot;\n",
       "</td>\n",
       "<td>\n",
       "895.476777\n",
       "</td>\n",
       "<td>\n",
       "30.871266\n",
       "</td>\n",
       "<td>\n",
       "439.917257\n",
       "</td>\n",
       "<td>\n",
       "422.110751\n",
       "</td>\n",
       "<td>\n",
       "270.980879\n",
       "</td>\n",
       "<td>\n",
       "56\n",
       "</td>\n",
       "</tr>\n",
       "<tr>\n",
       "<td>\n",
       "&quot;openfaas.inference.cloud-output&quot;\n",
       "</td>\n",
       "<td>\n",
       "924.029098\n",
       "</td>\n",
       "<td>\n",
       "5.353977\n",
       "</td>\n",
       "<td>\n",
       "429.302019\n",
       "</td>\n",
       "<td>\n",
       "417.745753\n",
       "</td>\n",
       "<td>\n",
       "272.579391\n",
       "</td>\n",
       "<td>\n",
       "200\n",
       "</td>\n",
       "</tr>\n",
       "<tr>\n",
       "<td>\n",
       "&quot;openfaas.inference.edge-output&quot;\n",
       "</td>\n",
       "<td>\n",
       "926.390378\n",
       "</td>\n",
       "<td>\n",
       "3.124148\n",
       "</td>\n",
       "<td>\n",
       "437.344831\n",
       "</td>\n",
       "<td>\n",
       "417.320176\n",
       "</td>\n",
       "<td>\n",
       "273.55538\n",
       "</td>\n",
       "<td>\n",
       "144\n",
       "</td>\n",
       "</tr>\n",
       "</tbody>\n",
       "</table>\n",
       "</div>"
      ],
      "text/plain": [
       "shape: (5, 7)\n",
       "┌────────────────────────┬────────────┬───────────┬────────────┬────────────┬────────────┬─────────┐\n",
       "│ topic                  ┆ max        ┆ min       ┆ avg        ┆ median     ┆ std        ┆ samples │\n",
       "│ ---                    ┆ ---        ┆ ---       ┆ ---        ┆ ---        ┆ ---        ┆ ---     │\n",
       "│ str                    ┆ f64        ┆ f64       ┆ f64        ┆ f64        ┆ f64        ┆ u32     │\n",
       "╞════════════════════════╪════════════╪═══════════╪════════════╪════════════╪════════════╪═════════╡\n",
       "│ fission.inference.edge ┆ 922.803313 ┆ 7.807814  ┆ 438.89212  ┆ 417.61643  ┆ 269.625005 ┆ 200     │\n",
       "│ -output                ┆            ┆           ┆            ┆            ┆            ┆         │\n",
       "│ fission.inference.clou ┆ 920.493501 ┆ 10.310655 ┆ 430.104251 ┆ 418.006197 ┆ 269.861114 ┆ 200     │\n",
       "│ d-output               ┆            ┆           ┆            ┆            ┆            ┆         │\n",
       "│ openfaas.inference.fog ┆ 895.476777 ┆ 30.871266 ┆ 439.917257 ┆ 422.110751 ┆ 270.980879 ┆ 56      │\n",
       "│ -output                ┆            ┆           ┆            ┆            ┆            ┆         │\n",
       "│ openfaas.inference.clo ┆ 924.029098 ┆ 5.353977  ┆ 429.302019 ┆ 417.745753 ┆ 272.579391 ┆ 200     │\n",
       "│ ud-output              ┆            ┆           ┆            ┆            ┆            ┆         │\n",
       "│ openfaas.inference.edg ┆ 926.390378 ┆ 3.124148  ┆ 437.344831 ┆ 417.320176 ┆ 273.55538  ┆ 144     │\n",
       "│ e-output               ┆            ┆           ┆            ┆            ┆            ┆         │\n",
       "└────────────────────────┴────────────┴───────────┴────────────┴────────────┴────────────┴─────────┘"
      ]
     },
     "execution_count": 7,
     "metadata": {},
     "output_type": "execute_result"
    }
   ],
   "source": [
    "stats_openfaas: pl.DataFrame = get_basic_stats(openfaas)\n",
    "stats_fission: pl.DataFrame = get_basic_stats(fission)\n",
    "stats = pl.concat((stats_fission, stats_openfaas))\n",
    "stats"
   ]
  },
  {
   "cell_type": "code",
   "execution_count": 8,
   "metadata": {
    "ExecuteTime": {
     "end_time": "2023-04-08T19:31:10.977744Z",
     "start_time": "2023-04-08T19:31:10.612383Z"
    },
    "collapsed": false
   },
   "outputs": [
    {
     "data": {
      "application/vnd.plotly.v1+json": {
       "config": {
        "plotlyServerURL": "https://plot.ly"
       },
       "data": [
        {
         "alignmentgroup": "True",
         "hovertemplate": "variable=max<br>Kafka topic=%{x}<br>Latency (in seconds)=%{y}<extra></extra>",
         "legendgroup": "max",
         "marker": {
          "color": "#1F77B4",
          "pattern": {
           "shape": ""
          }
         },
         "name": "max",
         "offsetgroup": "max",
         "orientation": "v",
         "showlegend": true,
         "textposition": "auto",
         "type": "bar",
         "x": [
          "fission.inference.edge-output",
          "fission.inference.cloud-output",
          "openfaas.inference.fog-output",
          "openfaas.inference.cloud-output",
          "openfaas.inference.edge-output"
         ],
         "xaxis": "x",
         "y": [
          922.8033130168915,
          920.4935009479523,
          895.4767768383026,
          924.029098033905,
          926.3903782367706
         ],
         "yaxis": "y"
        },
        {
         "alignmentgroup": "True",
         "hovertemplate": "variable=avg<br>Kafka topic=%{x}<br>Latency (in seconds)=%{y}<extra></extra>",
         "legendgroup": "avg",
         "marker": {
          "color": "#FF7F0E",
          "pattern": {
           "shape": ""
          }
         },
         "name": "avg",
         "offsetgroup": "avg",
         "orientation": "v",
         "showlegend": true,
         "textposition": "auto",
         "type": "bar",
         "x": [
          "fission.inference.edge-output",
          "fission.inference.cloud-output",
          "openfaas.inference.fog-output",
          "openfaas.inference.cloud-output",
          "openfaas.inference.edge-output"
         ],
         "xaxis": "x",
         "y": [
          438.89211987495423,
          430.1042513585091,
          439.9172565085547,
          429.30201887011526,
          437.3448313905133
         ],
         "yaxis": "y"
        },
        {
         "alignmentgroup": "True",
         "hovertemplate": "variable=median<br>Kafka topic=%{x}<br>Latency (in seconds)=%{y}<extra></extra>",
         "legendgroup": "median",
         "marker": {
          "color": "#2CA02C",
          "pattern": {
           "shape": ""
          }
         },
         "name": "median",
         "offsetgroup": "median",
         "orientation": "v",
         "showlegend": true,
         "textposition": "auto",
         "type": "bar",
         "x": [
          "fission.inference.edge-output",
          "fission.inference.cloud-output",
          "openfaas.inference.fog-output",
          "openfaas.inference.cloud-output",
          "openfaas.inference.edge-output"
         ],
         "xaxis": "x",
         "y": [
          417.6164299249649,
          418.006196975708,
          422.11075091362,
          417.7457525730133,
          417.3201764822006
         ],
         "yaxis": "y"
        },
        {
         "alignmentgroup": "True",
         "hovertemplate": "variable=std<br>Kafka topic=%{x}<br>Latency (in seconds)=%{y}<extra></extra>",
         "legendgroup": "std",
         "marker": {
          "color": "#D62728",
          "pattern": {
           "shape": ""
          }
         },
         "name": "std",
         "offsetgroup": "std",
         "orientation": "v",
         "showlegend": true,
         "textposition": "auto",
         "type": "bar",
         "x": [
          "fission.inference.edge-output",
          "fission.inference.cloud-output",
          "openfaas.inference.fog-output",
          "openfaas.inference.cloud-output",
          "openfaas.inference.edge-output"
         ],
         "xaxis": "x",
         "y": [
          269.6250049531404,
          269.86111377630186,
          270.9808789967248,
          272.5793908170534,
          273.55538026175645
         ],
         "yaxis": "y"
        },
        {
         "alignmentgroup": "True",
         "hovertemplate": "variable=min<br>Kafka topic=%{x}<br>Latency (in seconds)=%{y}<extra></extra>",
         "legendgroup": "min",
         "marker": {
          "color": "#9467BD",
          "pattern": {
           "shape": ""
          }
         },
         "name": "min",
         "offsetgroup": "min",
         "orientation": "v",
         "showlegend": true,
         "textposition": "auto",
         "type": "bar",
         "x": [
          "fission.inference.edge-output",
          "fission.inference.cloud-output",
          "openfaas.inference.fog-output",
          "openfaas.inference.cloud-output",
          "openfaas.inference.edge-output"
         ],
         "xaxis": "x",
         "y": [
          7.807814121246338,
          10.310655117034912,
          30.87126588821411,
          5.3539769649505615,
          3.12414813041687
         ],
         "yaxis": "y"
        }
       ],
       "layout": {
        "barmode": "group",
        "legend": {
         "title": {
          "text": "variable"
         },
         "tracegroupgap": 0
        },
        "margin": {
         "t": 60
        },
        "template": {
         "data": {
          "bar": [
           {
            "error_x": {
             "color": "rgb(36,36,36)"
            },
            "error_y": {
             "color": "rgb(36,36,36)"
            },
            "marker": {
             "line": {
              "color": "white",
              "width": 0.5
             },
             "pattern": {
              "fillmode": "overlay",
              "size": 10,
              "solidity": 0.2
             }
            },
            "type": "bar"
           }
          ],
          "barpolar": [
           {
            "marker": {
             "line": {
              "color": "white",
              "width": 0.5
             },
             "pattern": {
              "fillmode": "overlay",
              "size": 10,
              "solidity": 0.2
             }
            },
            "type": "barpolar"
           }
          ],
          "carpet": [
           {
            "aaxis": {
             "endlinecolor": "rgb(36,36,36)",
             "gridcolor": "white",
             "linecolor": "white",
             "minorgridcolor": "white",
             "startlinecolor": "rgb(36,36,36)"
            },
            "baxis": {
             "endlinecolor": "rgb(36,36,36)",
             "gridcolor": "white",
             "linecolor": "white",
             "minorgridcolor": "white",
             "startlinecolor": "rgb(36,36,36)"
            },
            "type": "carpet"
           }
          ],
          "choropleth": [
           {
            "colorbar": {
             "outlinewidth": 1,
             "tickcolor": "rgb(36,36,36)",
             "ticks": "outside"
            },
            "type": "choropleth"
           }
          ],
          "contour": [
           {
            "colorbar": {
             "outlinewidth": 1,
             "tickcolor": "rgb(36,36,36)",
             "ticks": "outside"
            },
            "colorscale": [
             [
              0,
              "#440154"
             ],
             [
              0.1111111111111111,
              "#482878"
             ],
             [
              0.2222222222222222,
              "#3e4989"
             ],
             [
              0.3333333333333333,
              "#31688e"
             ],
             [
              0.4444444444444444,
              "#26828e"
             ],
             [
              0.5555555555555556,
              "#1f9e89"
             ],
             [
              0.6666666666666666,
              "#35b779"
             ],
             [
              0.7777777777777778,
              "#6ece58"
             ],
             [
              0.8888888888888888,
              "#b5de2b"
             ],
             [
              1,
              "#fde725"
             ]
            ],
            "type": "contour"
           }
          ],
          "contourcarpet": [
           {
            "colorbar": {
             "outlinewidth": 1,
             "tickcolor": "rgb(36,36,36)",
             "ticks": "outside"
            },
            "type": "contourcarpet"
           }
          ],
          "heatmap": [
           {
            "colorbar": {
             "outlinewidth": 1,
             "tickcolor": "rgb(36,36,36)",
             "ticks": "outside"
            },
            "colorscale": [
             [
              0,
              "#440154"
             ],
             [
              0.1111111111111111,
              "#482878"
             ],
             [
              0.2222222222222222,
              "#3e4989"
             ],
             [
              0.3333333333333333,
              "#31688e"
             ],
             [
              0.4444444444444444,
              "#26828e"
             ],
             [
              0.5555555555555556,
              "#1f9e89"
             ],
             [
              0.6666666666666666,
              "#35b779"
             ],
             [
              0.7777777777777778,
              "#6ece58"
             ],
             [
              0.8888888888888888,
              "#b5de2b"
             ],
             [
              1,
              "#fde725"
             ]
            ],
            "type": "heatmap"
           }
          ],
          "heatmapgl": [
           {
            "colorbar": {
             "outlinewidth": 1,
             "tickcolor": "rgb(36,36,36)",
             "ticks": "outside"
            },
            "colorscale": [
             [
              0,
              "#440154"
             ],
             [
              0.1111111111111111,
              "#482878"
             ],
             [
              0.2222222222222222,
              "#3e4989"
             ],
             [
              0.3333333333333333,
              "#31688e"
             ],
             [
              0.4444444444444444,
              "#26828e"
             ],
             [
              0.5555555555555556,
              "#1f9e89"
             ],
             [
              0.6666666666666666,
              "#35b779"
             ],
             [
              0.7777777777777778,
              "#6ece58"
             ],
             [
              0.8888888888888888,
              "#b5de2b"
             ],
             [
              1,
              "#fde725"
             ]
            ],
            "type": "heatmapgl"
           }
          ],
          "histogram": [
           {
            "marker": {
             "line": {
              "color": "white",
              "width": 0.6
             }
            },
            "type": "histogram"
           }
          ],
          "histogram2d": [
           {
            "colorbar": {
             "outlinewidth": 1,
             "tickcolor": "rgb(36,36,36)",
             "ticks": "outside"
            },
            "colorscale": [
             [
              0,
              "#440154"
             ],
             [
              0.1111111111111111,
              "#482878"
             ],
             [
              0.2222222222222222,
              "#3e4989"
             ],
             [
              0.3333333333333333,
              "#31688e"
             ],
             [
              0.4444444444444444,
              "#26828e"
             ],
             [
              0.5555555555555556,
              "#1f9e89"
             ],
             [
              0.6666666666666666,
              "#35b779"
             ],
             [
              0.7777777777777778,
              "#6ece58"
             ],
             [
              0.8888888888888888,
              "#b5de2b"
             ],
             [
              1,
              "#fde725"
             ]
            ],
            "type": "histogram2d"
           }
          ],
          "histogram2dcontour": [
           {
            "colorbar": {
             "outlinewidth": 1,
             "tickcolor": "rgb(36,36,36)",
             "ticks": "outside"
            },
            "colorscale": [
             [
              0,
              "#440154"
             ],
             [
              0.1111111111111111,
              "#482878"
             ],
             [
              0.2222222222222222,
              "#3e4989"
             ],
             [
              0.3333333333333333,
              "#31688e"
             ],
             [
              0.4444444444444444,
              "#26828e"
             ],
             [
              0.5555555555555556,
              "#1f9e89"
             ],
             [
              0.6666666666666666,
              "#35b779"
             ],
             [
              0.7777777777777778,
              "#6ece58"
             ],
             [
              0.8888888888888888,
              "#b5de2b"
             ],
             [
              1,
              "#fde725"
             ]
            ],
            "type": "histogram2dcontour"
           }
          ],
          "mesh3d": [
           {
            "colorbar": {
             "outlinewidth": 1,
             "tickcolor": "rgb(36,36,36)",
             "ticks": "outside"
            },
            "type": "mesh3d"
           }
          ],
          "parcoords": [
           {
            "line": {
             "colorbar": {
              "outlinewidth": 1,
              "tickcolor": "rgb(36,36,36)",
              "ticks": "outside"
             }
            },
            "type": "parcoords"
           }
          ],
          "pie": [
           {
            "automargin": true,
            "type": "pie"
           }
          ],
          "scatter": [
           {
            "fillpattern": {
             "fillmode": "overlay",
             "size": 10,
             "solidity": 0.2
            },
            "type": "scatter"
           }
          ],
          "scatter3d": [
           {
            "line": {
             "colorbar": {
              "outlinewidth": 1,
              "tickcolor": "rgb(36,36,36)",
              "ticks": "outside"
             }
            },
            "marker": {
             "colorbar": {
              "outlinewidth": 1,
              "tickcolor": "rgb(36,36,36)",
              "ticks": "outside"
             }
            },
            "type": "scatter3d"
           }
          ],
          "scattercarpet": [
           {
            "marker": {
             "colorbar": {
              "outlinewidth": 1,
              "tickcolor": "rgb(36,36,36)",
              "ticks": "outside"
             }
            },
            "type": "scattercarpet"
           }
          ],
          "scattergeo": [
           {
            "marker": {
             "colorbar": {
              "outlinewidth": 1,
              "tickcolor": "rgb(36,36,36)",
              "ticks": "outside"
             }
            },
            "type": "scattergeo"
           }
          ],
          "scattergl": [
           {
            "marker": {
             "colorbar": {
              "outlinewidth": 1,
              "tickcolor": "rgb(36,36,36)",
              "ticks": "outside"
             }
            },
            "type": "scattergl"
           }
          ],
          "scattermapbox": [
           {
            "marker": {
             "colorbar": {
              "outlinewidth": 1,
              "tickcolor": "rgb(36,36,36)",
              "ticks": "outside"
             }
            },
            "type": "scattermapbox"
           }
          ],
          "scatterpolar": [
           {
            "marker": {
             "colorbar": {
              "outlinewidth": 1,
              "tickcolor": "rgb(36,36,36)",
              "ticks": "outside"
             }
            },
            "type": "scatterpolar"
           }
          ],
          "scatterpolargl": [
           {
            "marker": {
             "colorbar": {
              "outlinewidth": 1,
              "tickcolor": "rgb(36,36,36)",
              "ticks": "outside"
             }
            },
            "type": "scatterpolargl"
           }
          ],
          "scatterternary": [
           {
            "marker": {
             "colorbar": {
              "outlinewidth": 1,
              "tickcolor": "rgb(36,36,36)",
              "ticks": "outside"
             }
            },
            "type": "scatterternary"
           }
          ],
          "surface": [
           {
            "colorbar": {
             "outlinewidth": 1,
             "tickcolor": "rgb(36,36,36)",
             "ticks": "outside"
            },
            "colorscale": [
             [
              0,
              "#440154"
             ],
             [
              0.1111111111111111,
              "#482878"
             ],
             [
              0.2222222222222222,
              "#3e4989"
             ],
             [
              0.3333333333333333,
              "#31688e"
             ],
             [
              0.4444444444444444,
              "#26828e"
             ],
             [
              0.5555555555555556,
              "#1f9e89"
             ],
             [
              0.6666666666666666,
              "#35b779"
             ],
             [
              0.7777777777777778,
              "#6ece58"
             ],
             [
              0.8888888888888888,
              "#b5de2b"
             ],
             [
              1,
              "#fde725"
             ]
            ],
            "type": "surface"
           }
          ],
          "table": [
           {
            "cells": {
             "fill": {
              "color": "rgb(237,237,237)"
             },
             "line": {
              "color": "white"
             }
            },
            "header": {
             "fill": {
              "color": "rgb(217,217,217)"
             },
             "line": {
              "color": "white"
             }
            },
            "type": "table"
           }
          ]
         },
         "layout": {
          "annotationdefaults": {
           "arrowhead": 0,
           "arrowwidth": 1
          },
          "autotypenumbers": "strict",
          "coloraxis": {
           "colorbar": {
            "outlinewidth": 1,
            "tickcolor": "rgb(36,36,36)",
            "ticks": "outside"
           }
          },
          "colorscale": {
           "diverging": [
            [
             0,
             "rgb(103,0,31)"
            ],
            [
             0.1,
             "rgb(178,24,43)"
            ],
            [
             0.2,
             "rgb(214,96,77)"
            ],
            [
             0.3,
             "rgb(244,165,130)"
            ],
            [
             0.4,
             "rgb(253,219,199)"
            ],
            [
             0.5,
             "rgb(247,247,247)"
            ],
            [
             0.6,
             "rgb(209,229,240)"
            ],
            [
             0.7,
             "rgb(146,197,222)"
            ],
            [
             0.8,
             "rgb(67,147,195)"
            ],
            [
             0.9,
             "rgb(33,102,172)"
            ],
            [
             1,
             "rgb(5,48,97)"
            ]
           ],
           "sequential": [
            [
             0,
             "#440154"
            ],
            [
             0.1111111111111111,
             "#482878"
            ],
            [
             0.2222222222222222,
             "#3e4989"
            ],
            [
             0.3333333333333333,
             "#31688e"
            ],
            [
             0.4444444444444444,
             "#26828e"
            ],
            [
             0.5555555555555556,
             "#1f9e89"
            ],
            [
             0.6666666666666666,
             "#35b779"
            ],
            [
             0.7777777777777778,
             "#6ece58"
            ],
            [
             0.8888888888888888,
             "#b5de2b"
            ],
            [
             1,
             "#fde725"
            ]
           ],
           "sequentialminus": [
            [
             0,
             "#440154"
            ],
            [
             0.1111111111111111,
             "#482878"
            ],
            [
             0.2222222222222222,
             "#3e4989"
            ],
            [
             0.3333333333333333,
             "#31688e"
            ],
            [
             0.4444444444444444,
             "#26828e"
            ],
            [
             0.5555555555555556,
             "#1f9e89"
            ],
            [
             0.6666666666666666,
             "#35b779"
            ],
            [
             0.7777777777777778,
             "#6ece58"
            ],
            [
             0.8888888888888888,
             "#b5de2b"
            ],
            [
             1,
             "#fde725"
            ]
           ]
          },
          "colorway": [
           "#1F77B4",
           "#FF7F0E",
           "#2CA02C",
           "#D62728",
           "#9467BD",
           "#8C564B",
           "#E377C2",
           "#7F7F7F",
           "#BCBD22",
           "#17BECF"
          ],
          "font": {
           "color": "rgb(36,36,36)"
          },
          "geo": {
           "bgcolor": "white",
           "lakecolor": "white",
           "landcolor": "white",
           "showlakes": true,
           "showland": true,
           "subunitcolor": "white"
          },
          "hoverlabel": {
           "align": "left"
          },
          "hovermode": "closest",
          "mapbox": {
           "style": "light"
          },
          "paper_bgcolor": "white",
          "plot_bgcolor": "white",
          "polar": {
           "angularaxis": {
            "gridcolor": "rgb(232,232,232)",
            "linecolor": "rgb(36,36,36)",
            "showgrid": false,
            "showline": true,
            "ticks": "outside"
           },
           "bgcolor": "white",
           "radialaxis": {
            "gridcolor": "rgb(232,232,232)",
            "linecolor": "rgb(36,36,36)",
            "showgrid": false,
            "showline": true,
            "ticks": "outside"
           }
          },
          "scene": {
           "xaxis": {
            "backgroundcolor": "white",
            "gridcolor": "rgb(232,232,232)",
            "gridwidth": 2,
            "linecolor": "rgb(36,36,36)",
            "showbackground": true,
            "showgrid": false,
            "showline": true,
            "ticks": "outside",
            "zeroline": false,
            "zerolinecolor": "rgb(36,36,36)"
           },
           "yaxis": {
            "backgroundcolor": "white",
            "gridcolor": "rgb(232,232,232)",
            "gridwidth": 2,
            "linecolor": "rgb(36,36,36)",
            "showbackground": true,
            "showgrid": false,
            "showline": true,
            "ticks": "outside",
            "zeroline": false,
            "zerolinecolor": "rgb(36,36,36)"
           },
           "zaxis": {
            "backgroundcolor": "white",
            "gridcolor": "rgb(232,232,232)",
            "gridwidth": 2,
            "linecolor": "rgb(36,36,36)",
            "showbackground": true,
            "showgrid": false,
            "showline": true,
            "ticks": "outside",
            "zeroline": false,
            "zerolinecolor": "rgb(36,36,36)"
           }
          },
          "shapedefaults": {
           "fillcolor": "black",
           "line": {
            "width": 0
           },
           "opacity": 0.3
          },
          "ternary": {
           "aaxis": {
            "gridcolor": "rgb(232,232,232)",
            "linecolor": "rgb(36,36,36)",
            "showgrid": false,
            "showline": true,
            "ticks": "outside"
           },
           "baxis": {
            "gridcolor": "rgb(232,232,232)",
            "linecolor": "rgb(36,36,36)",
            "showgrid": false,
            "showline": true,
            "ticks": "outside"
           },
           "bgcolor": "white",
           "caxis": {
            "gridcolor": "rgb(232,232,232)",
            "linecolor": "rgb(36,36,36)",
            "showgrid": false,
            "showline": true,
            "ticks": "outside"
           }
          },
          "title": {
           "x": 0.05
          },
          "xaxis": {
           "automargin": true,
           "gridcolor": "rgb(232,232,232)",
           "linecolor": "rgb(36,36,36)",
           "showgrid": false,
           "showline": true,
           "ticks": "outside",
           "title": {
            "standoff": 15
           },
           "zeroline": false,
           "zerolinecolor": "rgb(36,36,36)"
          },
          "yaxis": {
           "automargin": true,
           "gridcolor": "rgb(232,232,232)",
           "linecolor": "rgb(36,36,36)",
           "showgrid": false,
           "showline": true,
           "ticks": "outside",
           "title": {
            "standoff": 15
           },
           "zeroline": false,
           "zerolinecolor": "rgb(36,36,36)"
          }
         }
        },
        "xaxis": {
         "anchor": "y",
         "domain": [
          0,
          1
         ],
         "title": {
          "text": "Kafka topic"
         }
        },
        "yaxis": {
         "anchor": "x",
         "domain": [
          0,
          1
         ],
         "title": {
          "text": "Latency (in seconds)"
         }
        }
       }
      }
     },
     "metadata": {},
     "output_type": "display_data"
    }
   ],
   "source": [
    "fig = plot_stats(stats)\n",
    "fig.write_image(\"out/stats_latency.png\")\n",
    "fig.show()"
   ]
  },
  {
   "cell_type": "code",
   "execution_count": 9,
   "metadata": {
    "ExecuteTime": {
     "end_time": "2023-04-08T19:31:10.981068Z",
     "start_time": "2023-04-08T19:31:10.817286Z"
    },
    "collapsed": false
   },
   "outputs": [
    {
     "data": {
      "application/vnd.plotly.v1+json": {
       "config": {
        "plotlyServerURL": "https://plot.ly"
       },
       "data": [
        {
         "hovertemplate": "<extra></extra>",
         "legendgroup": "",
         "marker": {
          "color": "#1F77B4",
          "symbol": "circle"
         },
         "mode": "markers",
         "name": "",
         "orientation": "v",
         "showlegend": false,
         "type": "scatter",
         "xaxis": "x",
         "yaxis": "y"
        },
        {
         "name": "edge",
         "type": "scatter",
         "x": [
          0,
          6.421999931335449,
          14.680999994277954,
          25.921000003814697,
          39.61800003051758,
          42.44099998474121,
          48.125,
          56.62999987602234,
          64.86399984359741,
          73.25300002098083,
          81.62100005149841,
          84.32399988174438,
          87.04199981689453,
          89.85099983215332,
          95.41599988937378,
          100.91599988937378,
          103.65499997138977,
          106.51300001144409,
          109.33200001716614,
          115.96199989318848,
          118.8420000076294,
          121.62100005149841,
          127.12299990653992,
          129.81900000572205,
          132.56900000572205,
          146.54199981689453,
          152.06299996376038,
          163.25600004196167,
          165.97699999809265,
          168.7519998550415,
          171.510999917984,
          179.93099999427795,
          182.65499997138977,
          193.65699982643127,
          199.23399996757507,
          207.65400004386902,
          210.42599987983704,
          213.22300004959106,
          215.9579999446869,
          224.3550000190735,
          227.14100003242493,
          235.9960000514984,
          244.43499994277954,
          247.16299986839294,
          252.7409999370575,
          255.56200003623962,
          264.08399987220764,
          266.8329999446869,
          272.25999999046326,
          280.6529998779297,
          283.5609998703003,
          289.3269999027252,
          297.6579999923706,
          308.8639998435974,
          322.9539999961853,
          325.7279999256134,
          331.3420000076294,
          340.8509998321533,
          349.42400002479553,
          357.5679998397827,
          366.1799998283386,
          368.95700001716614,
          371.75600004196167,
          374.5620000362396,
          380.14299988746643,
          385.69400000572205,
          388.43299984931946,
          391.1859998703003,
          393.95499992370605,
          396.77999997138977,
          399.59699988365173,
          402.4159998893738,
          408.12800002098083,
          410.9609999656677,
          413.75600004196167,
          427.9010000228882,
          433.5620000362396,
          444.6749999523163,
          447.43099999427795,
          450.220999956131,
          452.92599987983704,
          461.2589998245239,
          464.0169999599457,
          475.4579999446869,
          480.9759998321533,
          489.4559998512268,
          492.3729999065399,
          495.17199993133545,
          497.95499992370605,
          506.42400002479553,
          509.27099990844727,
          517.6369998455048,
          526.1159999370575,
          528.8839998245239,
          534.3420000076294,
          537.1449999809265,
          545.7389998435974,
          548.537999868393,
          554.0859999656677,
          562.385999917984,
          565.2769999504089,
          570.8759999275208,
          579.25,
          591.5729999542236,
          605.4800000190735,
          608.3480000495911,
          614.0239999294281,
          622.5049998760223,
          630.7230000495911,
          639.1879999637604,
          647.7599999904633,
          650.5479998588562,
          653.2449998855591,
          656.25,
          661.7389998435974,
          667.4689998626709,
          670.2469999790192,
          673.0360000133514,
          675.9609999656677,
          678.75,
          681.4949998855591,
          684.2300000190735,
          689.8639998435974,
          692.6889998912811,
          695.3559999465942,
          709.3209998607635,
          714.771999835968,
          725.8409998416901,
          728.5909998416901,
          731.3039999008179,
          734.2869999408722,
          742.6459999084473,
          745.4479999542236,
          756.5329999923706,
          762.1749999523163,
          770.6829998493195,
          773.4939999580383,
          776.2599999904633,
          779.0750000476837,
          787.4110000133514,
          790.3799998760223,
          798.7599999904633,
          807.1669998168945,
          809.8429999351501,
          815.356999874115,
          818.1429998874664,
          826.4179999828339,
          829.2269999980927,
          834.779000043869,
          843.2979998588562,
          846.1349999904633,
          851.8439998626709,
          860.3689999580383,
          871.6719999313354,
          885.6959998607635,
          888.4649999141693,
          894.1299998760223,
          902.5599999427795,
          911.1329998970032,
          919.6189999580383,
          927.8659999370575,
          934.7189998626709,
          937.4559998512268,
          943.8680000305176,
          949.4379999637604,
          955.0950000286102,
          957.8239998817444,
          960.5569999217987,
          963.3639998435974,
          966.1619999408722,
          969.0869998931885,
          971.8769998550415,
          977.3680000305176,
          980.191999912262,
          982.9199998378754,
          996.9579999446869,
          1002.5329999923706,
          1013.6559998989105,
          1016.3939998149872,
          1019.3629999160767,
          1022.0439999103546,
          1030.5529999732971,
          1033.2689998149872,
          1044.4370000362396,
          1050.082999944687,
          1058.4919998645782,
          1061.2579998970032,
          1064.180999994278,
          1066.9389998912811,
          1075.3339998722076,
          1078.1619999408722,
          1086.6439998149872,
          1094.986999988556,
          1097.7819998264313,
          1103.3509998321533,
          1106.0879998207092,
          1114.6439998149872,
          1117.4900000095367,
          1123.0679998397827,
          1131.4800000190735
         ],
         "y": [
          7.807814121246338,
          12.087613821029663,
          17.289652109146118,
          24.46199893951416,
          33.03887629508972,
          34.840736865997314,
          38.47519516944885,
          43.90778589248657,
          49.08483672142029,
          54.39754009246826,
          59.70317721366882,
          61.38416790962219,
          63.08141875267029,
          64.87273597717285,
          68.39847993850708,
          71.85880088806152,
          73.57608199119568,
          75.41725206375122,
          77.2138741016388,
          82.82454013824463,
          84.6875491142273,
          86.44404292106628,
          89.89914393424988,
          91.58136105537415,
          93.32137203216553,
          102.20098400115967,
          105.69296407699585,
          112.82243704795837,
          114.53228712081909,
          116.29522585868835,
          118.04123497009277,
          123.41461896896362,
          125.11958408355713,
          132.05217599868774,
          135.58839106559753,
          140.96398305892944,
          142.72079205513,
          144.49861907958984,
          146.21212792396545,
          151.54200196266174,
          153.30522513389587,
          159.08402705192566,
          164.43997502326965,
          166.1464900970459,
          169.67850518226624,
          171.47731828689575,
          176.91811990737915,
          178.64759492874146,
          182.03109097480774,
          187.36453700065613,
          189.12469482421875,
          193.84050798416138,
          200.6211221218109,
          209.75714683532715,
          221.2307288646698,
          223.48325514793396,
          228.06048798561096,
          236.01485586166382,
          243.0256941318512,
          249.60770988464355,
          256.67020082473755,
          258.92538118362427,
          261.2103099822998,
          263.50584602355957,
          268.0467720031738,
          272.550390958786,
          274.76445984840393,
          276.9936637878418,
          279.2447249889374,
          281.5447151660919,
          283.84249782562256,
          286.1454710960388,
          290.81959319114685,
          293.1403269767761,
          295.42074823379517,
          306.9657452106476,
          311.587149143219,
          320.6188950538635,
          322.8584589958191,
          325.1324510574341,
          327.3185908794403,
          334.09581303596497,
          336.3288860321045,
          345.67577600479126,
          350.1470458507538,
          357.0676500797272,
          359.46871399879456,
          361.75347113609314,
          364.0219449996948,
          370.930367231369,
          373.2321410179138,
          380.052268743515,
          386.9802861213684,
          389.23408675193787,
          393.6509711742401,
          395.93202900886536,
          402.9638919830322,
          405.23704290390015,
          409.74049711227417,
          416.49147295951843,
          418.7413868904114,
          423.62715911865234,
          430.9333040714264,
          441.85298109054565,
          454.00300097465515,
          456.5257041454315,
          461.50740003585815,
          468.92980885505676,
          476.0879261493683,
          483.49759793281555,
          491.0213270187378,
          493.4575660228729,
          495.80905199050903,
          498.46201395988464,
          503.2434186935425,
          508.26536202430725,
          510.68909215927124,
          513.1321740150452,
          515.7041940689087,
          518.1313321590424,
          520.5238687992096,
          522.9049501419067,
          527.8330371379852,
          530.3087058067322,
          532.6232290267944,
          544.8271019458771,
          549.5713059902191,
          559.2293698787689,
          561.6219670772552,
          563.9770948886871,
          566.6146330833435,
          573.9134140014648,
          576.3590841293335,
          586.0297582149506,
          590.9639620780945,
          598.4163770675659,
          600.8812029361725,
          603.2991719245911,
          605.7608451843262,
          613.0451700687408,
          615.6614379882812,
          622.9826970100403,
          630.3328537940979,
          632.6596841812134,
          637.4746298789978,
          639.9095449447632,
          647.1225099563599,
          649.5660700798035,
          654.4112000465393,
          661.8625891208649,
          664.2231910228729,
          669.3797030448914,
          677.1088511943817,
          687.3242409229279,
          699.9995229244232,
          702.4989778995514,
          707.6306228637695,
          715.2620508670807,
          723.0259847640991,
          730.71630692482,
          738.1426501274109,
          744.7231569290161,
          747.1901860237122,
          753.334949016571,
          758.3637380599976,
          763.4899830818176,
          765.9492328166962,
          768.4082388877869,
          770.9397881031036,
          773.4649319648743,
          776.1177189350128,
          778.639909029007,
          783.5995411872864,
          786.1527450084686,
          788.6095459461212,
          801.3043789863586,
          806.3343379497528,
          816.3650691509247,
          818.8289120197296,
          821.52596783638,
          823.9297919273376,
          831.6303949356079,
          834.0743749141693,
          844.1572730541229,
          849.2619440555573,
          856.8572490215302,
          859.3551590442657,
          862.0066540241241,
          864.4928178787231,
          872.0722668170929,
          874.6293559074402,
          882.3002669811249,
          889.8287470340729,
          892.3535499572754,
          897.3819119930267,
          899.8470280170441,
          907.5895349979401,
          910.1631901264191,
          915.2021389007568,
          922.8033130168915
         ]
        },
        {
         "name": "fog",
         "type": "scatter",
         "x": [],
         "y": []
        },
        {
         "name": "cloud",
         "type": "scatter",
         "x": [
          3.611999988555908,
          9.490000009536743,
          12.194000005722046,
          17.698999881744385,
          20.503000020980835,
          23.411999940872192,
          28.895999908447266,
          31.59999990463257,
          34.49000000953674,
          37.08999991416931,
          45.692999839782715,
          51.305999994277954,
          54.001999855041504,
          59.59699988365173,
          62.480000019073486,
          68.08899998664856,
          70.80399990081787,
          76.29099988937378,
          79.09699988365173,
          92.89399981498718,
          98.39499998092651,
          124.69299983978271,
          135.69400000572205,
          138.40699982643127,
          141.29399991035461,
          144.10800004005432,
          149.5939998626709,
          155.19199991226196,
          157.9800000190735,
          160.69599986076355,
          174.5039999485016,
          177.39199995994568,
          185.79299998283386,
          188.4909999370575,
          191.20700001716614,
          196.79299998283386,
          202.2960000038147,
          205.18899989128113,
          219.0939998626709,
          221.89299988746643,
          230.39199995994568,
          233.28799986839294,
          239.20700001716614,
          241.8989999294281,
          250.29299998283386,
          258.6050000190735,
          261.59099984169006,
          269.8910000324249,
          275.29699993133545,
          278.09299993515015,
          286.79299998283386,
          292.396999835968,
          295.29199981689453,
          300.7999999523163,
          303.5019998550415,
          306.38899993896484,
          311.99199986457825,
          314.69400000572205,
          317.4930000305176,
          320.4909999370575,
          328.69400000572205,
          335.39599990844727,
          338.29299998283386,
          344.19199991226196,
          346.8899998664856,
          352.39599990844727,
          355.1840000152588,
          360.896999835968,
          363.6029999256134,
          377.6050000190735,
          383.1909999847412,
          405.5920000076294,
          416.8919999599457,
          419.70499992370605,
          422.49699997901917,
          425.4909999370575,
          431.021999835968,
          436.59699988365173,
          439.3949999809265,
          442.10599994659424,
          456.0920000076294,
          458.7909998893738,
          467.289999961853,
          470.08799982070923,
          472.8910000324249,
          478.49000000953674,
          484.1089999675751,
          486.9930000305176,
          501.1929998397827,
          503.88699984550476,
          512.3910000324249,
          515.1879999637604,
          520.7939999103546,
          523.4919998645782,
          531.8919999599457,
          540.194000005722,
          543.0039999485016,
          551.5920000076294,
          557.1870000362396,
          559.9900000095367,
          568.2949998378754,
          573.8989999294281,
          576.6959998607635,
          583.3919999599457,
          586.2890000343323,
          589.0079998970032,
          594.694000005722,
          597.4859998226166,
          600.1929998397827,
          602.9900000095367,
          611.5899999141693,
          617.2839999198914,
          619.9889998435974,
          625.5920000076294,
          628.2929999828339,
          633.7929999828339,
          636.5909998416901,
          642.3910000324249,
          645.1859998703003,
          659.2070000171661,
          664.8929998874664,
          687.3849999904633,
          698.4869999885559,
          701.1949999332428,
          703.9879999160767,
          706.787999868393,
          712.2929999828339,
          717.7939999103546,
          720.5030000209808,
          723.3020000457764,
          737.2969999313354,
          740.2890000343323,
          748.4919998645782,
          751.2919998168945,
          754.0939998626709,
          759.6929998397827,
          765.2019999027252,
          768.1089999675751,
          782.106999874115,
          784.9900000095367,
          793.3919999599457,
          796.2939999103546,
          801.7969999313354,
          804.6050000190735,
          812.9939999580383,
          821.2929999828339,
          823.9939999580383,
          832.3989999294281,
          837.9949998855591,
          840.6949999332428,
          849.2960000038147,
          854.9969999790192,
          857.8910000324249,
          863.4979999065399,
          866.2890000343323,
          869.0920000076294,
          874.8919999599457,
          877.5969998836517,
          880.5939998626709,
          883.210000038147,
          891.691999912262,
          897.2949998378754,
          900.0920000076294,
          905.694000005722,
          908.6889998912811,
          914.2939999103546,
          917.0889999866486,
          922.6019999980927,
          925.3049998283386,
          946.8919999599457,
          952.5920000076294,
          974.8939998149872,
          985.9939999580383,
          988.7919998168945,
          991.6099998950958,
          994.4919998645782,
          1000.1109998226166,
          1005.5989999771118,
          1008.4830000400543,
          1011.2860000133514,
          1025.191999912262,
          1027.9879999160767,
          1036.398999929428,
          1039.2919998168945,
          1042.0929999351501,
          1047.5920000076294,
          1053.1979999542236,
          1056.0889999866486,
          1070.0950000286102,
          1072.7089998722076,
          1081.3090000152588,
          1084.1879999637604,
          1089.7909998893738,
          1092.5899999141693,
          1100.8939998149872,
          1109.108999967575,
          1112.0899999141693,
          1120.5969998836517,
          1126.093999862671,
          1128.8959999084473
         ],
         "y": [
          10.310655117034912,
          14.13325309753418,
          15.81977105140686,
          19.2899329662323,
          21.077051877975464,
          22.970386028289795,
          26.41639995574951,
          28.09617590904236,
          29.957674026489258,
          31.53401494026184,
          37.0700409412384,
          40.633443117141724,
          42.30252194404602,
          45.86091184616089,
          47.7263720035553,
          51.2872531414032,
          52.964600801467896,
          56.41393303871155,
          58.19889998435974,
          66.89587497711182,
          70.35472798347473,
          88.48897790908813,
          95.42615008354187,
          97.1164939403534,
          98.9816689491272,
          100.78131699562073,
          104.2380518913269,
          107.8055260181427,
          109.57726192474365,
          111.27715992927551,
          120.02146697044373,
          121.89059686660767,
          127.2379732131958,
          128.91656804084778,
          130.61855006217957,
          134.16597318649292,
          137.6351079940796,
          139.51370191574097,
          148.32812690734863,
          150.10258293151855,
          155.5270130634308,
          157.40035581588745,
          161.26649403572083,
          162.93655490875244,
          168.25509905815125,
          173.49935603141785,
          175.4668951034546,
          180.68301796913147,
          184.05241799354553,
          185.82664585113525,
          191.82533311843872,
          196.3939118385315,
          198.77343678474426,
          203.24673318862915,
          205.43346095085144,
          207.80484223365784,
          212.35947489738464,
          214.5364580154419,
          216.81346821784973,
          219.29144716262817,
          225.93541288375854,
          231.59485793113708,
          233.978679895401,
          238.8322730064392,
          241.00577092170715,
          245.47768712043762,
          247.74513220787048,
          252.42152786254883,
          254.60844111442566,
          266.03323101997375,
          270.57310605049133,
          288.7987082004547,
          298.03970217704773,
          300.330353975296,
          302.601300239563,
          305.0781171321869,
          309.56993985176086,
          314.10975909233093,
          316.3853418827057,
          318.57253098487854,
          329.9643290042877,
          332.1486840248108,
          339.08055901527405,
          341.3543498516083,
          343.63224601745605,
          348.1836521625519,
          352.7580409049988,
          355.12624621391296,
          366.743381023407,
          368.9161159992218,
          375.8365070819855,
          378.1174190044403,
          382.69245886802673,
          384.87637996673584,
          391.72252917289734,
          398.45806527137756,
          400.7558469772339,
          407.7633171081543,
          412.32641315460205,
          414.61468601226807,
          421.39770793914795,
          426.29222798347473,
          428.736713886261,
          434.71637511253357,
          437.2650442123413,
          439.6355149745941,
          444.6237602233887,
          447.0647599697113,
          449.42048692703247,
          451.86573600769043,
          459.42355394363403,
          464.41488695144653,
          466.7690770626068,
          471.6580460071564,
          474.0117700099945,
          478.8051540851593,
          481.2490408420563,
          486.35620307922363,
          488.8011817932129,
          501.06601190567017,
          506.0456669330597,
          525.7082829475403,
          535.4005620479584,
          537.7555420398712,
          540.1987290382385,
          542.6476459503174,
          547.445188999176,
          552.241320848465,
          554.602283000946,
          557.0455222129822,
          569.2702569961548,
          571.9081151485443,
          579.0487480163574,
          581.4945919513702,
          583.9436209201813,
          588.8336029052734,
          593.6372699737549,
          596.1988990306854,
          608.4439978599548,
          610.974543094635,
          618.3211441040039,
          620.8732640743256,
          625.6671259403229,
          628.1204671859741,
          635.4606630802155,
          642.7057991027832,
          645.0542089939117,
          652.3899178504944,
          657.2681448459625,
          659.6135301589966,
          667.1045351028442,
          672.262444972992,
          674.8943140506744,
          679.9643061161041,
          682.4862701892853,
          685.0126852989197,
          690.2736170291901,
          692.7087759971619,
          695.4390869140625,
          697.7821750640869,
          705.4616899490356,
          710.5280749797821,
          713.058188199997,
          718.1249639987946,
          720.8485069274902,
          725.925085067749,
          728.4539842605591,
          733.425840139389,
          735.8548498153687,
          756.0865612030029,
          761.2469160556793,
          781.3950078487396,
          791.4148850440979,
          793.9417579174042,
          796.4902250766754,
          799.104505777359,
          804.1844818592072,
          809.1298592090607,
          811.7416121959686,
          814.2681322097778,
          826.8085761070251,
          829.3374211788177,
          836.9308109283447,
          839.5541388988495,
          842.0849649906158,
          847.0393390655518,
          852.1074569225311,
          854.726909160614,
          867.379417181015,
          869.7209389209747,
          877.5108020305634,
          880.1177859306335,
          885.1800010204315,
          887.7045290470123,
          895.1919949054718,
          902.599277973175,
          905.3070900440216,
          912.9998879432678,
          917.9575147628784,
          920.4935009479523
         ]
        }
       ],
       "layout": {
        "legend": {
         "tracegroupgap": 0
        },
        "margin": {
         "t": 60
        },
        "template": {
         "data": {
          "bar": [
           {
            "error_x": {
             "color": "rgb(36,36,36)"
            },
            "error_y": {
             "color": "rgb(36,36,36)"
            },
            "marker": {
             "line": {
              "color": "white",
              "width": 0.5
             },
             "pattern": {
              "fillmode": "overlay",
              "size": 10,
              "solidity": 0.2
             }
            },
            "type": "bar"
           }
          ],
          "barpolar": [
           {
            "marker": {
             "line": {
              "color": "white",
              "width": 0.5
             },
             "pattern": {
              "fillmode": "overlay",
              "size": 10,
              "solidity": 0.2
             }
            },
            "type": "barpolar"
           }
          ],
          "carpet": [
           {
            "aaxis": {
             "endlinecolor": "rgb(36,36,36)",
             "gridcolor": "white",
             "linecolor": "white",
             "minorgridcolor": "white",
             "startlinecolor": "rgb(36,36,36)"
            },
            "baxis": {
             "endlinecolor": "rgb(36,36,36)",
             "gridcolor": "white",
             "linecolor": "white",
             "minorgridcolor": "white",
             "startlinecolor": "rgb(36,36,36)"
            },
            "type": "carpet"
           }
          ],
          "choropleth": [
           {
            "colorbar": {
             "outlinewidth": 1,
             "tickcolor": "rgb(36,36,36)",
             "ticks": "outside"
            },
            "type": "choropleth"
           }
          ],
          "contour": [
           {
            "colorbar": {
             "outlinewidth": 1,
             "tickcolor": "rgb(36,36,36)",
             "ticks": "outside"
            },
            "colorscale": [
             [
              0,
              "#440154"
             ],
             [
              0.1111111111111111,
              "#482878"
             ],
             [
              0.2222222222222222,
              "#3e4989"
             ],
             [
              0.3333333333333333,
              "#31688e"
             ],
             [
              0.4444444444444444,
              "#26828e"
             ],
             [
              0.5555555555555556,
              "#1f9e89"
             ],
             [
              0.6666666666666666,
              "#35b779"
             ],
             [
              0.7777777777777778,
              "#6ece58"
             ],
             [
              0.8888888888888888,
              "#b5de2b"
             ],
             [
              1,
              "#fde725"
             ]
            ],
            "type": "contour"
           }
          ],
          "contourcarpet": [
           {
            "colorbar": {
             "outlinewidth": 1,
             "tickcolor": "rgb(36,36,36)",
             "ticks": "outside"
            },
            "type": "contourcarpet"
           }
          ],
          "heatmap": [
           {
            "colorbar": {
             "outlinewidth": 1,
             "tickcolor": "rgb(36,36,36)",
             "ticks": "outside"
            },
            "colorscale": [
             [
              0,
              "#440154"
             ],
             [
              0.1111111111111111,
              "#482878"
             ],
             [
              0.2222222222222222,
              "#3e4989"
             ],
             [
              0.3333333333333333,
              "#31688e"
             ],
             [
              0.4444444444444444,
              "#26828e"
             ],
             [
              0.5555555555555556,
              "#1f9e89"
             ],
             [
              0.6666666666666666,
              "#35b779"
             ],
             [
              0.7777777777777778,
              "#6ece58"
             ],
             [
              0.8888888888888888,
              "#b5de2b"
             ],
             [
              1,
              "#fde725"
             ]
            ],
            "type": "heatmap"
           }
          ],
          "heatmapgl": [
           {
            "colorbar": {
             "outlinewidth": 1,
             "tickcolor": "rgb(36,36,36)",
             "ticks": "outside"
            },
            "colorscale": [
             [
              0,
              "#440154"
             ],
             [
              0.1111111111111111,
              "#482878"
             ],
             [
              0.2222222222222222,
              "#3e4989"
             ],
             [
              0.3333333333333333,
              "#31688e"
             ],
             [
              0.4444444444444444,
              "#26828e"
             ],
             [
              0.5555555555555556,
              "#1f9e89"
             ],
             [
              0.6666666666666666,
              "#35b779"
             ],
             [
              0.7777777777777778,
              "#6ece58"
             ],
             [
              0.8888888888888888,
              "#b5de2b"
             ],
             [
              1,
              "#fde725"
             ]
            ],
            "type": "heatmapgl"
           }
          ],
          "histogram": [
           {
            "marker": {
             "line": {
              "color": "white",
              "width": 0.6
             }
            },
            "type": "histogram"
           }
          ],
          "histogram2d": [
           {
            "colorbar": {
             "outlinewidth": 1,
             "tickcolor": "rgb(36,36,36)",
             "ticks": "outside"
            },
            "colorscale": [
             [
              0,
              "#440154"
             ],
             [
              0.1111111111111111,
              "#482878"
             ],
             [
              0.2222222222222222,
              "#3e4989"
             ],
             [
              0.3333333333333333,
              "#31688e"
             ],
             [
              0.4444444444444444,
              "#26828e"
             ],
             [
              0.5555555555555556,
              "#1f9e89"
             ],
             [
              0.6666666666666666,
              "#35b779"
             ],
             [
              0.7777777777777778,
              "#6ece58"
             ],
             [
              0.8888888888888888,
              "#b5de2b"
             ],
             [
              1,
              "#fde725"
             ]
            ],
            "type": "histogram2d"
           }
          ],
          "histogram2dcontour": [
           {
            "colorbar": {
             "outlinewidth": 1,
             "tickcolor": "rgb(36,36,36)",
             "ticks": "outside"
            },
            "colorscale": [
             [
              0,
              "#440154"
             ],
             [
              0.1111111111111111,
              "#482878"
             ],
             [
              0.2222222222222222,
              "#3e4989"
             ],
             [
              0.3333333333333333,
              "#31688e"
             ],
             [
              0.4444444444444444,
              "#26828e"
             ],
             [
              0.5555555555555556,
              "#1f9e89"
             ],
             [
              0.6666666666666666,
              "#35b779"
             ],
             [
              0.7777777777777778,
              "#6ece58"
             ],
             [
              0.8888888888888888,
              "#b5de2b"
             ],
             [
              1,
              "#fde725"
             ]
            ],
            "type": "histogram2dcontour"
           }
          ],
          "mesh3d": [
           {
            "colorbar": {
             "outlinewidth": 1,
             "tickcolor": "rgb(36,36,36)",
             "ticks": "outside"
            },
            "type": "mesh3d"
           }
          ],
          "parcoords": [
           {
            "line": {
             "colorbar": {
              "outlinewidth": 1,
              "tickcolor": "rgb(36,36,36)",
              "ticks": "outside"
             }
            },
            "type": "parcoords"
           }
          ],
          "pie": [
           {
            "automargin": true,
            "type": "pie"
           }
          ],
          "scatter": [
           {
            "fillpattern": {
             "fillmode": "overlay",
             "size": 10,
             "solidity": 0.2
            },
            "type": "scatter"
           }
          ],
          "scatter3d": [
           {
            "line": {
             "colorbar": {
              "outlinewidth": 1,
              "tickcolor": "rgb(36,36,36)",
              "ticks": "outside"
             }
            },
            "marker": {
             "colorbar": {
              "outlinewidth": 1,
              "tickcolor": "rgb(36,36,36)",
              "ticks": "outside"
             }
            },
            "type": "scatter3d"
           }
          ],
          "scattercarpet": [
           {
            "marker": {
             "colorbar": {
              "outlinewidth": 1,
              "tickcolor": "rgb(36,36,36)",
              "ticks": "outside"
             }
            },
            "type": "scattercarpet"
           }
          ],
          "scattergeo": [
           {
            "marker": {
             "colorbar": {
              "outlinewidth": 1,
              "tickcolor": "rgb(36,36,36)",
              "ticks": "outside"
             }
            },
            "type": "scattergeo"
           }
          ],
          "scattergl": [
           {
            "marker": {
             "colorbar": {
              "outlinewidth": 1,
              "tickcolor": "rgb(36,36,36)",
              "ticks": "outside"
             }
            },
            "type": "scattergl"
           }
          ],
          "scattermapbox": [
           {
            "marker": {
             "colorbar": {
              "outlinewidth": 1,
              "tickcolor": "rgb(36,36,36)",
              "ticks": "outside"
             }
            },
            "type": "scattermapbox"
           }
          ],
          "scatterpolar": [
           {
            "marker": {
             "colorbar": {
              "outlinewidth": 1,
              "tickcolor": "rgb(36,36,36)",
              "ticks": "outside"
             }
            },
            "type": "scatterpolar"
           }
          ],
          "scatterpolargl": [
           {
            "marker": {
             "colorbar": {
              "outlinewidth": 1,
              "tickcolor": "rgb(36,36,36)",
              "ticks": "outside"
             }
            },
            "type": "scatterpolargl"
           }
          ],
          "scatterternary": [
           {
            "marker": {
             "colorbar": {
              "outlinewidth": 1,
              "tickcolor": "rgb(36,36,36)",
              "ticks": "outside"
             }
            },
            "type": "scatterternary"
           }
          ],
          "surface": [
           {
            "colorbar": {
             "outlinewidth": 1,
             "tickcolor": "rgb(36,36,36)",
             "ticks": "outside"
            },
            "colorscale": [
             [
              0,
              "#440154"
             ],
             [
              0.1111111111111111,
              "#482878"
             ],
             [
              0.2222222222222222,
              "#3e4989"
             ],
             [
              0.3333333333333333,
              "#31688e"
             ],
             [
              0.4444444444444444,
              "#26828e"
             ],
             [
              0.5555555555555556,
              "#1f9e89"
             ],
             [
              0.6666666666666666,
              "#35b779"
             ],
             [
              0.7777777777777778,
              "#6ece58"
             ],
             [
              0.8888888888888888,
              "#b5de2b"
             ],
             [
              1,
              "#fde725"
             ]
            ],
            "type": "surface"
           }
          ],
          "table": [
           {
            "cells": {
             "fill": {
              "color": "rgb(237,237,237)"
             },
             "line": {
              "color": "white"
             }
            },
            "header": {
             "fill": {
              "color": "rgb(217,217,217)"
             },
             "line": {
              "color": "white"
             }
            },
            "type": "table"
           }
          ]
         },
         "layout": {
          "annotationdefaults": {
           "arrowhead": 0,
           "arrowwidth": 1
          },
          "autotypenumbers": "strict",
          "coloraxis": {
           "colorbar": {
            "outlinewidth": 1,
            "tickcolor": "rgb(36,36,36)",
            "ticks": "outside"
           }
          },
          "colorscale": {
           "diverging": [
            [
             0,
             "rgb(103,0,31)"
            ],
            [
             0.1,
             "rgb(178,24,43)"
            ],
            [
             0.2,
             "rgb(214,96,77)"
            ],
            [
             0.3,
             "rgb(244,165,130)"
            ],
            [
             0.4,
             "rgb(253,219,199)"
            ],
            [
             0.5,
             "rgb(247,247,247)"
            ],
            [
             0.6,
             "rgb(209,229,240)"
            ],
            [
             0.7,
             "rgb(146,197,222)"
            ],
            [
             0.8,
             "rgb(67,147,195)"
            ],
            [
             0.9,
             "rgb(33,102,172)"
            ],
            [
             1,
             "rgb(5,48,97)"
            ]
           ],
           "sequential": [
            [
             0,
             "#440154"
            ],
            [
             0.1111111111111111,
             "#482878"
            ],
            [
             0.2222222222222222,
             "#3e4989"
            ],
            [
             0.3333333333333333,
             "#31688e"
            ],
            [
             0.4444444444444444,
             "#26828e"
            ],
            [
             0.5555555555555556,
             "#1f9e89"
            ],
            [
             0.6666666666666666,
             "#35b779"
            ],
            [
             0.7777777777777778,
             "#6ece58"
            ],
            [
             0.8888888888888888,
             "#b5de2b"
            ],
            [
             1,
             "#fde725"
            ]
           ],
           "sequentialminus": [
            [
             0,
             "#440154"
            ],
            [
             0.1111111111111111,
             "#482878"
            ],
            [
             0.2222222222222222,
             "#3e4989"
            ],
            [
             0.3333333333333333,
             "#31688e"
            ],
            [
             0.4444444444444444,
             "#26828e"
            ],
            [
             0.5555555555555556,
             "#1f9e89"
            ],
            [
             0.6666666666666666,
             "#35b779"
            ],
            [
             0.7777777777777778,
             "#6ece58"
            ],
            [
             0.8888888888888888,
             "#b5de2b"
            ],
            [
             1,
             "#fde725"
            ]
           ]
          },
          "colorway": [
           "#1F77B4",
           "#FF7F0E",
           "#2CA02C",
           "#D62728",
           "#9467BD",
           "#8C564B",
           "#E377C2",
           "#7F7F7F",
           "#BCBD22",
           "#17BECF"
          ],
          "font": {
           "color": "rgb(36,36,36)"
          },
          "geo": {
           "bgcolor": "white",
           "lakecolor": "white",
           "landcolor": "white",
           "showlakes": true,
           "showland": true,
           "subunitcolor": "white"
          },
          "hoverlabel": {
           "align": "left"
          },
          "hovermode": "closest",
          "mapbox": {
           "style": "light"
          },
          "paper_bgcolor": "white",
          "plot_bgcolor": "white",
          "polar": {
           "angularaxis": {
            "gridcolor": "rgb(232,232,232)",
            "linecolor": "rgb(36,36,36)",
            "showgrid": false,
            "showline": true,
            "ticks": "outside"
           },
           "bgcolor": "white",
           "radialaxis": {
            "gridcolor": "rgb(232,232,232)",
            "linecolor": "rgb(36,36,36)",
            "showgrid": false,
            "showline": true,
            "ticks": "outside"
           }
          },
          "scene": {
           "xaxis": {
            "backgroundcolor": "white",
            "gridcolor": "rgb(232,232,232)",
            "gridwidth": 2,
            "linecolor": "rgb(36,36,36)",
            "showbackground": true,
            "showgrid": false,
            "showline": true,
            "ticks": "outside",
            "zeroline": false,
            "zerolinecolor": "rgb(36,36,36)"
           },
           "yaxis": {
            "backgroundcolor": "white",
            "gridcolor": "rgb(232,232,232)",
            "gridwidth": 2,
            "linecolor": "rgb(36,36,36)",
            "showbackground": true,
            "showgrid": false,
            "showline": true,
            "ticks": "outside",
            "zeroline": false,
            "zerolinecolor": "rgb(36,36,36)"
           },
           "zaxis": {
            "backgroundcolor": "white",
            "gridcolor": "rgb(232,232,232)",
            "gridwidth": 2,
            "linecolor": "rgb(36,36,36)",
            "showbackground": true,
            "showgrid": false,
            "showline": true,
            "ticks": "outside",
            "zeroline": false,
            "zerolinecolor": "rgb(36,36,36)"
           }
          },
          "shapedefaults": {
           "fillcolor": "black",
           "line": {
            "width": 0
           },
           "opacity": 0.3
          },
          "ternary": {
           "aaxis": {
            "gridcolor": "rgb(232,232,232)",
            "linecolor": "rgb(36,36,36)",
            "showgrid": false,
            "showline": true,
            "ticks": "outside"
           },
           "baxis": {
            "gridcolor": "rgb(232,232,232)",
            "linecolor": "rgb(36,36,36)",
            "showgrid": false,
            "showline": true,
            "ticks": "outside"
           },
           "bgcolor": "white",
           "caxis": {
            "gridcolor": "rgb(232,232,232)",
            "linecolor": "rgb(36,36,36)",
            "showgrid": false,
            "showline": true,
            "ticks": "outside"
           }
          },
          "title": {
           "x": 0.05
          },
          "xaxis": {
           "automargin": true,
           "gridcolor": "rgb(232,232,232)",
           "linecolor": "rgb(36,36,36)",
           "showgrid": false,
           "showline": true,
           "ticks": "outside",
           "title": {
            "standoff": 15
           },
           "zeroline": false,
           "zerolinecolor": "rgb(36,36,36)"
          },
          "yaxis": {
           "automargin": true,
           "gridcolor": "rgb(232,232,232)",
           "linecolor": "rgb(36,36,36)",
           "showgrid": false,
           "showline": true,
           "ticks": "outside",
           "title": {
            "standoff": 15
           },
           "zeroline": false,
           "zerolinecolor": "rgb(36,36,36)"
          }
         }
        },
        "xaxis": {
         "anchor": "y",
         "domain": [
          0,
          1
         ],
         "title": {
          "text": "Seconds since the start of the benchmark"
         }
        },
        "yaxis": {
         "anchor": "x",
         "domain": [
          0,
          1
         ],
         "title": {
          "text": "Response time latency (in seconds)"
         }
        }
       }
      }
     },
     "metadata": {},
     "output_type": "display_data"
    }
   ],
   "source": [
    "topics_fission = divide_by_topics(fission)\n",
    "topics_openfaas = divide_by_topics(openfaas)\n",
    "\n",
    "fig = plot_latency_on_topics_over_time(*topics_fission)\n",
    "fig.write_image(\"out/fission_latency_on_topics_over_time.png\")\n",
    "fig.show()"
   ]
  },
  {
   "cell_type": "code",
   "execution_count": 10,
   "metadata": {
    "ExecuteTime": {
     "end_time": "2023-04-08T19:31:11.093123Z",
     "start_time": "2023-04-08T19:31:10.937455Z"
    }
   },
   "outputs": [
    {
     "data": {
      "application/vnd.plotly.v1+json": {
       "config": {
        "plotlyServerURL": "https://plot.ly"
       },
       "data": [
        {
         "hovertemplate": "<extra></extra>",
         "legendgroup": "",
         "marker": {
          "color": "#1F77B4",
          "symbol": "circle"
         },
         "mode": "markers",
         "name": "",
         "orientation": "v",
         "showlegend": false,
         "type": "scatter",
         "xaxis": "x",
         "yaxis": "y"
        },
        {
         "name": "edge",
         "type": "scatter",
         "x": [
          0,
          5.817000150680542,
          14.490000009536743,
          25.794000148773193,
          40.18600010871887,
          48.693000078201294,
          57.17900013923645,
          74.21600008010864,
          82.71099996566772,
          85.57800006866455,
          88.37599992752075,
          91.21000003814697,
          102.70700001716614,
          105.52500009536743,
          111.19200015068054,
          113.99300003051758,
          116.8180000782013,
          131.10199999809265,
          145.28600001335144,
          162.37700009346008,
          168.01699995994568,
          170.89100003242493,
          182.31100010871887,
          193.71000003814697,
          199.48300004005432,
          210.8949999809265,
          213.7810001373291,
          225.12199997901917,
          236.51600003242493,
          245.00500011444092,
          253.5130000114441,
          256.375,
          264.8880000114441,
          267.78400015830994,
          273.7960000038147,
          282.3110001087189,
          285.1010000705719,
          290.8129999637604,
          299.4010000228882,
          310.7109999656677,
          324.8900001049042,
          333.49699997901917,
          341.98200011253357,
          358.9869999885559,
          367.42400002479553,
          370.29100012779236,
          373.19000005722046,
          376.01399993896484,
          387.3110001087189,
          390.2039999961853,
          395.88700008392334,
          398.7130000591278,
          401.59500002861023,
          415.7260000705719,
          429.9010000228882,
          446.9010000228882,
          452.67199993133545,
          455.49399995803833,
          466.8129999637604,
          478.1180000305176,
          483.90199995040894,
          495.2920000553131,
          498.1890001296997,
          509.5199999809265,
          520.9779999256134,
          529.5050001144409,
          537.9990000724792,
          540.8819999694824,
          549.4920001029968,
          552.2869999408722,
          557.8980000019073,
          566.4160001277924,
          569.2090001106262,
          574.9960000514984,
          583.4010000228882,
          594.7160000801086,
          608.9800000190735,
          617.5239999294281,
          626.0190000534058,
          643.0099999904633,
          651.5299999713898,
          654.4079999923706,
          657.2929999828339,
          660.1029999256134,
          671.5030000209808,
          674.3140001296997,
          680.074000120163,
          682.8020000457764,
          685.6029999256134,
          699.9349999427795,
          714.0080001354218,
          731.0190000534058,
          736.6960000991821,
          739.5970001220703,
          751.0230000019073,
          762.4930000305176,
          768.212000131607,
          779.5030000209808,
          782.4210000038147,
          793.789999961853,
          805.1119999885559,
          813.6949999332428,
          822.329999923706,
          825.1150000095367,
          833.7269999980927,
          836.5550000667572,
          842.2000000476837,
          850.9279999732971,
          853.779000043869,
          859.414999961853,
          867.8880000114441,
          879.3889999389648,
          893.5130000114441,
          902.1949999332428,
          910.7070000171661,
          929.2009999752045,
          938.018000125885,
          941.0889999866486,
          944.0199999809265,
          946.9839999675751,
          958.5859999656677,
          961.4950001239777,
          967.2990000247955,
          970.1909999847412,
          973.1870000362396,
          987.6100001335144,
          1002.0810000896454,
          1019.2990000247955,
          1025.090000152588,
          1027.904000043869,
          1039.2990000247955,
          1050.789999961853,
          1056.5090000629425,
          1067.8849999904633,
          1070.7869999408722,
          1082.2039999961853,
          1093.6070001125336,
          1102.2030000686646,
          1110.699000120163,
          1113.5989999771118,
          1122.1150000095367,
          1124.9119999408722,
          1130.6840000152588,
          1139.199000120163
         ],
         "y": [
          3.12414813041687,
          6.882209062576294,
          12.496003150939941,
          19.709769010543823,
          28.989944219589233,
          34.43090605735779,
          39.84915494918823,
          50.7657151222229,
          56.198253870010376,
          58.04423713684082,
          59.8277587890625,
          61.64252495765686,
          69.06371688842773,
          70.8613440990448,
          74.48854613304138,
          76.27420902252197,
          78.07582497596741,
          87.26027703285217,
          96.36029195785522,
          107.33519196510315,
          110.93652176856995,
          112.78732919692993,
          120.13280510902405,
          127.47990202903748,
          131.2251579761505,
          138.5701949596405,
          140.43970608711243,
          147.71818804740906,
          155.05122113227844,
          160.49213099479675,
          165.95239806175232,
          167.80166792869568,
          173.26604294776917,
          175.14410710334778,
          179.1184778213501,
          184.57810497283936,
          186.23056817054749,
          190.8973958492279,
          197.9339690208435,
          207.1897678375244,
          218.79074788093567,
          225.8455548286438,
          232.77047395706177,
          246.6540539264679,
          253.55419611930847,
          255.91317892074585,
          258.30404901504517,
          260.6147298812866,
          269.85431003570557,
          272.23313903808594,
          276.88762307167053,
          279.20003294944763,
          281.56392002105713,
          293.0973250865936,
          304.68125104904175,
          318.5610520839691,
          323.28502583503723,
          325.5919258594513,
          334.8296160697937,
          344.054230928421,
          348.80657410621643,
          358.11606001853943,
          360.49354815483093,
          369.7404639720917,
          379.1265048980713,
          386.09525084495544,
          393.028929233551,
          395.3848969936371,
          402.44765400886536,
          404.73239302635193,
          409.3109359741211,
          416.274689912796,
          418.3656630516052,
          423.43011116981506,
          430.77502512931824,
          440.6691081523895,
          453.163859128952,
          460.6525499820709,
          468.0863540172577,
          482.94616293907166,
          490.40602803230286,
          492.9333698749542,
          495.46560287475586,
          497.92475986480713,
          507.92103600502014,
          510.3802011013031,
          515.4493300914764,
          517.8268411159515,
          520.2795248031616,
          532.8680310249329,
          545.2019910812378,
          560.1239769458771,
          565.1066720485687,
          567.6636941432953,
          577.6914339065552,
          587.7823798656464,
          592.7964379787445,
          602.6873190402985,
          605.2560160160065,
          615.2339377403259,
          625.144152879715,
          632.6936419010162,
          640.2735569477081,
          642.7098441123962,
          650.2695579528809,
          652.7470421791077,
          657.6942548751831,
          665.3679120540619,
          667.6974079608917,
          672.7832729816437,
          680.4426829814911,
          690.8490128517151,
          703.6326470375061,
          711.5111398696899,
          719.2116279602051,
          736.0977628231049,
          744.0950610637665,
          746.8985991477966,
          749.559800863266,
          752.2603948116302,
          762.779510974884,
          765.420333147049,
          770.6756589412689,
          773.2999370098114,
          776.0287899971008,
          789.1126799583435,
          802.2380971908569,
          817.8257291316986,
          823.0841369628906,
          825.6271159648895,
          835.9474730491638,
          846.3444490432739,
          851.5256209373474,
          861.8179590702057,
          864.4466519355774,
          874.7744100093842,
          885.1010720729828,
          892.8878018856049,
          900.5741572380066,
          903.2069561481476,
          910.9196009635925,
          913.4449768066406,
          918.6854119300842,
          926.3903782367706
         ]
        },
        {
         "name": "fog",
         "type": "scatter",
         "x": [
          43.08899998664856,
          65.84299993515015,
          97.06100010871887,
          108.39100003242493,
          119.68499994277954,
          125.4449999332428,
          128.2920000553131,
          151.06299996376038,
          165.2350001335144,
          179.5130000114441,
          207.9850001335144,
          216.6600000858307,
          227.97900009155273,
          247.87000012397766,
          327.87000012397766,
          350.56900000572205,
          381.739000082016,
          393.07800006866455,
          404.4539999961853,
          410.1820001602173,
          412.9579999446869,
          435.5989999771118,
          449.86100006103516,
          464.0640001296997,
          492.56900000572205,
          501.0629999637604,
          512.4470000267029,
          532.3719999790192,
          611.944000005722,
          634.5729999542236,
          665.8540000915527,
          677.2320001125336,
          688.558000087738,
          694.268000125885,
          697.1549999713898,
          719.7360000610352,
          733.9880001544952,
          748.1719999313354,
          776.7550001144409,
          785.3610000610352,
          796.7530000209808,
          816.5550000667572,
          896.558000087738,
          919.2480001449585,
          952.8600001335144,
          964.4909999370575,
          976.087000131607,
          981.8789999485016,
          984.7610001564026,
          1007.8500001430511,
          1022.25,
          1036.4950001239777,
          1065.1419999599457,
          1073.6440000534058,
          1085.151999950409,
          1105.0620000362396
         ],
         "y": [
          30.87126588821411,
          45.45990180969238,
          65.45767712593079,
          72.70760607719421,
          79.9184558391571,
          83.6395537853241,
          85.47050786018372,
          100.10287094116211,
          109.175457239151,
          118.35504603385925,
          136.6796679496765,
          142.29915618896484,
          149.55622100830078,
          162.3422441482544,
          221.25292706489563,
          239.79448795318604,
          265.3131730556488,
          274.59404015541077,
          283.8999857902527,
          288.59408712387085,
          290.8489110469818,
          309.3471839427948,
          320.99727511405945,
          332.59597992897034,
          355.913861989975,
          362.84197306632996,
          372.15286684036255,
          388.4437139034271,
          455.77778792381287,
          475.5660378932953,
          502.97098302841187,
          512.9519488811493,
          522.8899941444397,
          527.8977031707764,
          530.438854932785,
          550.2246739864349,
          562.7510211467743,
          575.1961207389832,
          600.2892220020294,
          607.8476920127869,
          617.8426730632782,
          635.2028040885925,
          706.4058198928833,
          726.9434220790863,
          757.5917961597443,
          768.1439468860626,
          778.6614480018616,
          783.9207639694214,
          786.5350739955902,
          807.4586141109467,
          820.5087869167328,
          833.4146330356598,
          859.3450317382812,
          867.0335910320282,
          877.4530439376831,
          895.4767768383026
         ]
        },
        {
         "name": "cloud",
         "type": "scatter",
         "x": [
          3.2730000019073486,
          9.055999994277954,
          11.858999967575073,
          17.55900001525879,
          20.35800004005432,
          23.17199993133545,
          28.874000072479248,
          31.759000062942505,
          34.759000062942505,
          37.55900001525879,
          46.15900015830994,
          51.954999923706055,
          54.65700006484985,
          60.2720000743866,
          63.15700006484985,
          68.84700012207031,
          71.65900015830994,
          77.3600001335144,
          80.26200008392334,
          94.26200008392334,
          100.15900015830994,
          122.75800013542175,
          134.15300011634827,
          137.05700016021729,
          139.8730001449585,
          142.75500011444092,
          148.3659999370575,
          154.07299995422363,
          156.95900011062622,
          159.75500011444092,
          174.05999994277954,
          176.85400009155273,
          185.46900010108948,
          188.3510000705719,
          191.1560001373291,
          196.77100014686584,
          202.56100010871887,
          205.45600008964539,
          219.75699996948242,
          222.46900010108948,
          231.15700006484985,
          233.9630000591278,
          239.5590000152588,
          242.45300006866455,
          251.05599999427795,
          259.4539999961853,
          262.27100014686584,
          270.96200013160706,
          276.97500014305115,
          279.7660000324249,
          288.2660000324249,
          293.97300004959106,
          296.7669999599457,
          302.57299995422363,
          305.3580000400543,
          308.25800013542175,
          313.86300015449524,
          316.66100001335144,
          319.460000038147,
          322.27100014686584,
          330.8710000514984,
          336.5590000152588,
          339.45499992370605,
          345.05999994277954,
          347.87199997901917,
          353.5610001087189,
          356.4500000476837,
          362.05999994277954,
          364.9520001411438,
          379.07400012016296,
          384.7739999294281,
          407.4720001220703,
          418.76399993896484,
          421.65900015830994,
          424.55999994277954,
          427.3600001335144,
          432.9630000591278,
          438.57599997520447,
          441.4739999771118,
          444.2699999809265,
          458.65900015830994,
          461.5570001602173,
          469.86300015449524,
          472.85700011253357,
          475.56900000572205,
          481.27500009536743,
          486.9760000705719,
          489.8619999885559,
          504.16100001335144,
          506.960000038147,
          515.5599999427795,
          518.3589999675751,
          524.1630001068115,
          526.864000082016,
          535.4650001525879,
          543.9609999656677,
          546.8619999885559,
          555.364000082016,
          561.0640001296997,
          563.8670001029968,
          572.460000038147,
          578.074000120163,
          580.8710000514984,
          586.5680000782013,
          589.3610000610352,
          592.2610001564026,
          597.8700001239777,
          600.7520000934601,
          603.5680000782013,
          606.462000131607,
          614.960000038147,
          620.670000076294,
          623.558000087738,
          629.1619999408722,
          631.9639999866486,
          637.6619999408722,
          640.4579999446869,
          646.1590001583099,
          649.0629999637604,
          663.2630000114441,
          668.8780000209808,
          691.6600000858307,
          702.9639999866486,
          705.8580000400543,
          708.6610000133514,
          711.4609999656677,
          717.0729999542236,
          722.8559999465942,
          725.6610000133514,
          728.4609999656677,
          742.6610000133514,
          745.5599999427795,
          754.1610000133514,
          757.074000120163,
          759.8659999370575,
          765.6630001068115,
          771.462000131607,
          774.1640000343323,
          788.3670001029968,
          791.2630000114441,
          799.7639999389648,
          802.5620000362396,
          808.279000043869,
          811.0659999847412,
          819.6630001068115,
          828.2620000839233,
          831.0620000362396,
          839.6790001392365,
          845.4779999256134,
          848.3650000095367,
          856.864000082016,
          862.4790000915527,
          865.3619999885559,
          871.1670000553131,
          873.9730000495911,
          876.779000043869,
          882.4660000801086,
          885.2650001049042,
          888.1610000133514,
          891.0599999427795,
          899.5650000572205,
          905.3630001544952,
          908.1760001182556,
          913.7639999389648,
          916.6740000247955,
          922.3670001029968,
          926.5599999427795,
          932.4660000801086,
          935.3740000724792,
          950.1719999313354,
          955.970999956131,
          979.2630000114441,
          990.8650000095367,
          993.664999961853,
          996.5629999637604,
          999.4660000801086,
          1005.268000125885,
          1010.8689999580383,
          1013.8610000610352,
          1016.6640000343323,
          1031.0610001087189,
          1033.864000082016,
          1042.4570000171661,
          1045.2650001049042,
          1048.1749999523163,
          1053.8670001029968,
          1059.7639999389648,
          1062.4639999866486,
          1076.7780001163483,
          1079.5810000896454,
          1088.1790001392365,
          1091.0629999637604,
          1096.7669999599457,
          1099.5610001087189,
          1108.0840001106262,
          1116.7639999389648,
          1119.5770001411438,
          1128.0680000782013,
          1133.6790001392365,
          1136.5680000782013
         ],
         "y": [
          5.3539769649505615,
          9.107486963272095,
          10.886542797088623,
          14.54854679107666,
          16.322124004364014,
          18.10751485824585,
          21.767086029052734,
          23.6296489238739,
          25.612006902694702,
          27.388002157211304,
          32.91916608810425,
          36.67274498939514,
          38.354219913482666,
          41.92224597930908,
          43.785884141922,
          47.44158601760864,
          49.23102927207947,
          52.88827896118164,
          54.76940703392029,
          63.675716161727905,
          67.53523421287537,
          81.96903705596924,
          89.2965612411499,
          91.18541121482849,
          92.98445010185242,
          94.84879922866821,
          98.42644095420837,
          102.0937008857727,
          103.95733690261841,
          105.73151922225952,
          114.93616700172424,
          116.71237301826477,
          122.2800440788269,
          124.14126491546631,
          125.93723201751709,
          129.52827405929565,
          133.28260397911072,
          135.16540718078613,
          144.38328576087952,
          146.07801699638367,
          151.72074699401855,
          153.51433897018433,
          157.07359910011292,
          158.95553517341614,
          164.51357889175415,
          169.8669309616089,
          171.66980695724487,
          177.30621814727783,
          181.2793641090393,
          183.05098295211792,
          188.87040305137634,
          193.53589606285095,
          195.81061100959778,
          200.58988785743713,
          202.86130619049072,
          205.24926590919495,
          209.82166528701782,
          212.1072759628296,
          214.39396381378174,
          216.69249391555786,
          223.73498606681824,
          228.3869230747223,
          230.7627420425415,
          235.3253288269043,
          237.6127519607544,
          242.2688090801239,
          244.6398708820343,
          249.21842288970947,
          251.6005642414093,
          263.1619601249695,
          267.8331809043884,
          286.3981149196625,
          295.61365580558777,
          297.983980178833,
          300.3689160346985,
          302.65572118759155,
          307.22715401649475,
          311.80024576187134,
          314.1778259277344,
          316.452054977417,
          328.2317259311676,
          330.6059021949768,
          337.3618941307068,
          339.8344531059265,
          342.0256507396698,
          346.69339203834534,
          351.3617010116577,
          353.7298119068146,
          365.41843914985657,
          367.70160603523254,
          374.743558883667,
          377.02520871162415,
          381.79377007484436,
          383.97374200820923,
          391.0134069919586,
          397.94775581359863,
          400.33256912231445,
          407.296923160553,
          411.957102060318,
          414.24331307411194,
          421.2481920719147,
          426.155366897583,
          428.5971038341522,
          433.58883810043335,
          436.02883410453796,
          438.57238817214966,
          443.468453168869,
          445.99408292770386,
          448.4598319530487,
          450.9990231990814,
          458.44347882270813,
          463.4479749202728,
          465.98103499412537,
          470.87162590026855,
          473.3181359767914,
          478.30210399627686,
          480.74669194221497,
          485.7432851791382,
          488.2920718193054,
          500.73334097862244,
          505.6421868801117,
          525.6417779922485,
          535.5487408638,
          538.097088098526,
          540.5510499477386,
          543.0053799152374,
          547.912734746933,
          552.9992318153381,
          555.4565198421478,
          557.9111919403076,
          570.3748488426208,
          572.9309499263763,
          580.4869878292084,
          583.0525650978088,
          585.5008497238159,
          590.5974402427673,
          595.6971731185913,
          598.0453038215637,
          610.5044329166412,
          613.050281047821,
          620.5024757385254,
          622.943962097168,
          627.966803073883,
          630.4093849658966,
          637.9610230922699,
          645.5049321651459,
          647.9507429599762,
          655.524777173996,
          660.6240499019623,
          663.1578521728516,
          670.5017690658569,
          675.5756840705872,
          678.185583114624,
          683.4472241401672,
          685.9827828407288,
          688.509293794632,
          693.6578061580658,
          696.1872508525848,
          698.815810918808,
          701.4476947784424,
          709.1473689079285,
          714.4072742462158,
          716.9519190788269,
          722.0014169216156,
          724.6399748325348,
          729.7994251251221,
          733.725802898407,
          739.0864059925079,
          741.7247459888458,
          755.1790578365326,
          760.4377999305725,
          781.5722589492798,
          792.095388174057,
          794.6248600482941,
          797.2489199638367,
          799.889817237854,
          805.1500360965729,
          810.2110691070557,
          812.9296989440918,
          815.4618489742279,
          828.5125789642334,
          831.0495781898499,
          838.8382470607758,
          841.3742361068726,
          844.0191428661346,
          849.1549561023712,
          854.5049359798431,
          856.9357137680054,
          869.8966779708862,
          872.4259459972382,
          880.2078249454498,
          882.8247509002686,
          887.989010810852,
          890.5098359584808,
          898.2317590713501,
          906.1047787666321,
          908.653706073761,
          916.3367829322815,
          921.4082462787628,
          924.029098033905
         ]
        }
       ],
       "layout": {
        "legend": {
         "tracegroupgap": 0
        },
        "margin": {
         "t": 60
        },
        "template": {
         "data": {
          "bar": [
           {
            "error_x": {
             "color": "rgb(36,36,36)"
            },
            "error_y": {
             "color": "rgb(36,36,36)"
            },
            "marker": {
             "line": {
              "color": "white",
              "width": 0.5
             },
             "pattern": {
              "fillmode": "overlay",
              "size": 10,
              "solidity": 0.2
             }
            },
            "type": "bar"
           }
          ],
          "barpolar": [
           {
            "marker": {
             "line": {
              "color": "white",
              "width": 0.5
             },
             "pattern": {
              "fillmode": "overlay",
              "size": 10,
              "solidity": 0.2
             }
            },
            "type": "barpolar"
           }
          ],
          "carpet": [
           {
            "aaxis": {
             "endlinecolor": "rgb(36,36,36)",
             "gridcolor": "white",
             "linecolor": "white",
             "minorgridcolor": "white",
             "startlinecolor": "rgb(36,36,36)"
            },
            "baxis": {
             "endlinecolor": "rgb(36,36,36)",
             "gridcolor": "white",
             "linecolor": "white",
             "minorgridcolor": "white",
             "startlinecolor": "rgb(36,36,36)"
            },
            "type": "carpet"
           }
          ],
          "choropleth": [
           {
            "colorbar": {
             "outlinewidth": 1,
             "tickcolor": "rgb(36,36,36)",
             "ticks": "outside"
            },
            "type": "choropleth"
           }
          ],
          "contour": [
           {
            "colorbar": {
             "outlinewidth": 1,
             "tickcolor": "rgb(36,36,36)",
             "ticks": "outside"
            },
            "colorscale": [
             [
              0,
              "#440154"
             ],
             [
              0.1111111111111111,
              "#482878"
             ],
             [
              0.2222222222222222,
              "#3e4989"
             ],
             [
              0.3333333333333333,
              "#31688e"
             ],
             [
              0.4444444444444444,
              "#26828e"
             ],
             [
              0.5555555555555556,
              "#1f9e89"
             ],
             [
              0.6666666666666666,
              "#35b779"
             ],
             [
              0.7777777777777778,
              "#6ece58"
             ],
             [
              0.8888888888888888,
              "#b5de2b"
             ],
             [
              1,
              "#fde725"
             ]
            ],
            "type": "contour"
           }
          ],
          "contourcarpet": [
           {
            "colorbar": {
             "outlinewidth": 1,
             "tickcolor": "rgb(36,36,36)",
             "ticks": "outside"
            },
            "type": "contourcarpet"
           }
          ],
          "heatmap": [
           {
            "colorbar": {
             "outlinewidth": 1,
             "tickcolor": "rgb(36,36,36)",
             "ticks": "outside"
            },
            "colorscale": [
             [
              0,
              "#440154"
             ],
             [
              0.1111111111111111,
              "#482878"
             ],
             [
              0.2222222222222222,
              "#3e4989"
             ],
             [
              0.3333333333333333,
              "#31688e"
             ],
             [
              0.4444444444444444,
              "#26828e"
             ],
             [
              0.5555555555555556,
              "#1f9e89"
             ],
             [
              0.6666666666666666,
              "#35b779"
             ],
             [
              0.7777777777777778,
              "#6ece58"
             ],
             [
              0.8888888888888888,
              "#b5de2b"
             ],
             [
              1,
              "#fde725"
             ]
            ],
            "type": "heatmap"
           }
          ],
          "heatmapgl": [
           {
            "colorbar": {
             "outlinewidth": 1,
             "tickcolor": "rgb(36,36,36)",
             "ticks": "outside"
            },
            "colorscale": [
             [
              0,
              "#440154"
             ],
             [
              0.1111111111111111,
              "#482878"
             ],
             [
              0.2222222222222222,
              "#3e4989"
             ],
             [
              0.3333333333333333,
              "#31688e"
             ],
             [
              0.4444444444444444,
              "#26828e"
             ],
             [
              0.5555555555555556,
              "#1f9e89"
             ],
             [
              0.6666666666666666,
              "#35b779"
             ],
             [
              0.7777777777777778,
              "#6ece58"
             ],
             [
              0.8888888888888888,
              "#b5de2b"
             ],
             [
              1,
              "#fde725"
             ]
            ],
            "type": "heatmapgl"
           }
          ],
          "histogram": [
           {
            "marker": {
             "line": {
              "color": "white",
              "width": 0.6
             }
            },
            "type": "histogram"
           }
          ],
          "histogram2d": [
           {
            "colorbar": {
             "outlinewidth": 1,
             "tickcolor": "rgb(36,36,36)",
             "ticks": "outside"
            },
            "colorscale": [
             [
              0,
              "#440154"
             ],
             [
              0.1111111111111111,
              "#482878"
             ],
             [
              0.2222222222222222,
              "#3e4989"
             ],
             [
              0.3333333333333333,
              "#31688e"
             ],
             [
              0.4444444444444444,
              "#26828e"
             ],
             [
              0.5555555555555556,
              "#1f9e89"
             ],
             [
              0.6666666666666666,
              "#35b779"
             ],
             [
              0.7777777777777778,
              "#6ece58"
             ],
             [
              0.8888888888888888,
              "#b5de2b"
             ],
             [
              1,
              "#fde725"
             ]
            ],
            "type": "histogram2d"
           }
          ],
          "histogram2dcontour": [
           {
            "colorbar": {
             "outlinewidth": 1,
             "tickcolor": "rgb(36,36,36)",
             "ticks": "outside"
            },
            "colorscale": [
             [
              0,
              "#440154"
             ],
             [
              0.1111111111111111,
              "#482878"
             ],
             [
              0.2222222222222222,
              "#3e4989"
             ],
             [
              0.3333333333333333,
              "#31688e"
             ],
             [
              0.4444444444444444,
              "#26828e"
             ],
             [
              0.5555555555555556,
              "#1f9e89"
             ],
             [
              0.6666666666666666,
              "#35b779"
             ],
             [
              0.7777777777777778,
              "#6ece58"
             ],
             [
              0.8888888888888888,
              "#b5de2b"
             ],
             [
              1,
              "#fde725"
             ]
            ],
            "type": "histogram2dcontour"
           }
          ],
          "mesh3d": [
           {
            "colorbar": {
             "outlinewidth": 1,
             "tickcolor": "rgb(36,36,36)",
             "ticks": "outside"
            },
            "type": "mesh3d"
           }
          ],
          "parcoords": [
           {
            "line": {
             "colorbar": {
              "outlinewidth": 1,
              "tickcolor": "rgb(36,36,36)",
              "ticks": "outside"
             }
            },
            "type": "parcoords"
           }
          ],
          "pie": [
           {
            "automargin": true,
            "type": "pie"
           }
          ],
          "scatter": [
           {
            "fillpattern": {
             "fillmode": "overlay",
             "size": 10,
             "solidity": 0.2
            },
            "type": "scatter"
           }
          ],
          "scatter3d": [
           {
            "line": {
             "colorbar": {
              "outlinewidth": 1,
              "tickcolor": "rgb(36,36,36)",
              "ticks": "outside"
             }
            },
            "marker": {
             "colorbar": {
              "outlinewidth": 1,
              "tickcolor": "rgb(36,36,36)",
              "ticks": "outside"
             }
            },
            "type": "scatter3d"
           }
          ],
          "scattercarpet": [
           {
            "marker": {
             "colorbar": {
              "outlinewidth": 1,
              "tickcolor": "rgb(36,36,36)",
              "ticks": "outside"
             }
            },
            "type": "scattercarpet"
           }
          ],
          "scattergeo": [
           {
            "marker": {
             "colorbar": {
              "outlinewidth": 1,
              "tickcolor": "rgb(36,36,36)",
              "ticks": "outside"
             }
            },
            "type": "scattergeo"
           }
          ],
          "scattergl": [
           {
            "marker": {
             "colorbar": {
              "outlinewidth": 1,
              "tickcolor": "rgb(36,36,36)",
              "ticks": "outside"
             }
            },
            "type": "scattergl"
           }
          ],
          "scattermapbox": [
           {
            "marker": {
             "colorbar": {
              "outlinewidth": 1,
              "tickcolor": "rgb(36,36,36)",
              "ticks": "outside"
             }
            },
            "type": "scattermapbox"
           }
          ],
          "scatterpolar": [
           {
            "marker": {
             "colorbar": {
              "outlinewidth": 1,
              "tickcolor": "rgb(36,36,36)",
              "ticks": "outside"
             }
            },
            "type": "scatterpolar"
           }
          ],
          "scatterpolargl": [
           {
            "marker": {
             "colorbar": {
              "outlinewidth": 1,
              "tickcolor": "rgb(36,36,36)",
              "ticks": "outside"
             }
            },
            "type": "scatterpolargl"
           }
          ],
          "scatterternary": [
           {
            "marker": {
             "colorbar": {
              "outlinewidth": 1,
              "tickcolor": "rgb(36,36,36)",
              "ticks": "outside"
             }
            },
            "type": "scatterternary"
           }
          ],
          "surface": [
           {
            "colorbar": {
             "outlinewidth": 1,
             "tickcolor": "rgb(36,36,36)",
             "ticks": "outside"
            },
            "colorscale": [
             [
              0,
              "#440154"
             ],
             [
              0.1111111111111111,
              "#482878"
             ],
             [
              0.2222222222222222,
              "#3e4989"
             ],
             [
              0.3333333333333333,
              "#31688e"
             ],
             [
              0.4444444444444444,
              "#26828e"
             ],
             [
              0.5555555555555556,
              "#1f9e89"
             ],
             [
              0.6666666666666666,
              "#35b779"
             ],
             [
              0.7777777777777778,
              "#6ece58"
             ],
             [
              0.8888888888888888,
              "#b5de2b"
             ],
             [
              1,
              "#fde725"
             ]
            ],
            "type": "surface"
           }
          ],
          "table": [
           {
            "cells": {
             "fill": {
              "color": "rgb(237,237,237)"
             },
             "line": {
              "color": "white"
             }
            },
            "header": {
             "fill": {
              "color": "rgb(217,217,217)"
             },
             "line": {
              "color": "white"
             }
            },
            "type": "table"
           }
          ]
         },
         "layout": {
          "annotationdefaults": {
           "arrowhead": 0,
           "arrowwidth": 1
          },
          "autotypenumbers": "strict",
          "coloraxis": {
           "colorbar": {
            "outlinewidth": 1,
            "tickcolor": "rgb(36,36,36)",
            "ticks": "outside"
           }
          },
          "colorscale": {
           "diverging": [
            [
             0,
             "rgb(103,0,31)"
            ],
            [
             0.1,
             "rgb(178,24,43)"
            ],
            [
             0.2,
             "rgb(214,96,77)"
            ],
            [
             0.3,
             "rgb(244,165,130)"
            ],
            [
             0.4,
             "rgb(253,219,199)"
            ],
            [
             0.5,
             "rgb(247,247,247)"
            ],
            [
             0.6,
             "rgb(209,229,240)"
            ],
            [
             0.7,
             "rgb(146,197,222)"
            ],
            [
             0.8,
             "rgb(67,147,195)"
            ],
            [
             0.9,
             "rgb(33,102,172)"
            ],
            [
             1,
             "rgb(5,48,97)"
            ]
           ],
           "sequential": [
            [
             0,
             "#440154"
            ],
            [
             0.1111111111111111,
             "#482878"
            ],
            [
             0.2222222222222222,
             "#3e4989"
            ],
            [
             0.3333333333333333,
             "#31688e"
            ],
            [
             0.4444444444444444,
             "#26828e"
            ],
            [
             0.5555555555555556,
             "#1f9e89"
            ],
            [
             0.6666666666666666,
             "#35b779"
            ],
            [
             0.7777777777777778,
             "#6ece58"
            ],
            [
             0.8888888888888888,
             "#b5de2b"
            ],
            [
             1,
             "#fde725"
            ]
           ],
           "sequentialminus": [
            [
             0,
             "#440154"
            ],
            [
             0.1111111111111111,
             "#482878"
            ],
            [
             0.2222222222222222,
             "#3e4989"
            ],
            [
             0.3333333333333333,
             "#31688e"
            ],
            [
             0.4444444444444444,
             "#26828e"
            ],
            [
             0.5555555555555556,
             "#1f9e89"
            ],
            [
             0.6666666666666666,
             "#35b779"
            ],
            [
             0.7777777777777778,
             "#6ece58"
            ],
            [
             0.8888888888888888,
             "#b5de2b"
            ],
            [
             1,
             "#fde725"
            ]
           ]
          },
          "colorway": [
           "#1F77B4",
           "#FF7F0E",
           "#2CA02C",
           "#D62728",
           "#9467BD",
           "#8C564B",
           "#E377C2",
           "#7F7F7F",
           "#BCBD22",
           "#17BECF"
          ],
          "font": {
           "color": "rgb(36,36,36)"
          },
          "geo": {
           "bgcolor": "white",
           "lakecolor": "white",
           "landcolor": "white",
           "showlakes": true,
           "showland": true,
           "subunitcolor": "white"
          },
          "hoverlabel": {
           "align": "left"
          },
          "hovermode": "closest",
          "mapbox": {
           "style": "light"
          },
          "paper_bgcolor": "white",
          "plot_bgcolor": "white",
          "polar": {
           "angularaxis": {
            "gridcolor": "rgb(232,232,232)",
            "linecolor": "rgb(36,36,36)",
            "showgrid": false,
            "showline": true,
            "ticks": "outside"
           },
           "bgcolor": "white",
           "radialaxis": {
            "gridcolor": "rgb(232,232,232)",
            "linecolor": "rgb(36,36,36)",
            "showgrid": false,
            "showline": true,
            "ticks": "outside"
           }
          },
          "scene": {
           "xaxis": {
            "backgroundcolor": "white",
            "gridcolor": "rgb(232,232,232)",
            "gridwidth": 2,
            "linecolor": "rgb(36,36,36)",
            "showbackground": true,
            "showgrid": false,
            "showline": true,
            "ticks": "outside",
            "zeroline": false,
            "zerolinecolor": "rgb(36,36,36)"
           },
           "yaxis": {
            "backgroundcolor": "white",
            "gridcolor": "rgb(232,232,232)",
            "gridwidth": 2,
            "linecolor": "rgb(36,36,36)",
            "showbackground": true,
            "showgrid": false,
            "showline": true,
            "ticks": "outside",
            "zeroline": false,
            "zerolinecolor": "rgb(36,36,36)"
           },
           "zaxis": {
            "backgroundcolor": "white",
            "gridcolor": "rgb(232,232,232)",
            "gridwidth": 2,
            "linecolor": "rgb(36,36,36)",
            "showbackground": true,
            "showgrid": false,
            "showline": true,
            "ticks": "outside",
            "zeroline": false,
            "zerolinecolor": "rgb(36,36,36)"
           }
          },
          "shapedefaults": {
           "fillcolor": "black",
           "line": {
            "width": 0
           },
           "opacity": 0.3
          },
          "ternary": {
           "aaxis": {
            "gridcolor": "rgb(232,232,232)",
            "linecolor": "rgb(36,36,36)",
            "showgrid": false,
            "showline": true,
            "ticks": "outside"
           },
           "baxis": {
            "gridcolor": "rgb(232,232,232)",
            "linecolor": "rgb(36,36,36)",
            "showgrid": false,
            "showline": true,
            "ticks": "outside"
           },
           "bgcolor": "white",
           "caxis": {
            "gridcolor": "rgb(232,232,232)",
            "linecolor": "rgb(36,36,36)",
            "showgrid": false,
            "showline": true,
            "ticks": "outside"
           }
          },
          "title": {
           "x": 0.05
          },
          "xaxis": {
           "automargin": true,
           "gridcolor": "rgb(232,232,232)",
           "linecolor": "rgb(36,36,36)",
           "showgrid": false,
           "showline": true,
           "ticks": "outside",
           "title": {
            "standoff": 15
           },
           "zeroline": false,
           "zerolinecolor": "rgb(36,36,36)"
          },
          "yaxis": {
           "automargin": true,
           "gridcolor": "rgb(232,232,232)",
           "linecolor": "rgb(36,36,36)",
           "showgrid": false,
           "showline": true,
           "ticks": "outside",
           "title": {
            "standoff": 15
           },
           "zeroline": false,
           "zerolinecolor": "rgb(36,36,36)"
          }
         }
        },
        "xaxis": {
         "anchor": "y",
         "domain": [
          0,
          1
         ],
         "title": {
          "text": "Seconds since the start of the benchmark"
         }
        },
        "yaxis": {
         "anchor": "x",
         "domain": [
          0,
          1
         ],
         "title": {
          "text": "Response time latency (in seconds)"
         }
        }
       }
      }
     },
     "metadata": {},
     "output_type": "display_data"
    }
   ],
   "source": [
    "fig = plot_latency_on_topics_over_time(*topics_openfaas)\n",
    "fig.write_image(\"out/openfaas_latency_on_topics_over_time.png\")\n",
    "fig.show()\n"
   ]
  },
  {
   "cell_type": "code",
   "execution_count": 11,
   "metadata": {
    "ExecuteTime": {
     "end_time": "2023-04-08T19:31:11.226677Z",
     "start_time": "2023-04-08T19:31:11.053850Z"
    },
    "collapsed": false
   },
   "outputs": [
    {
     "data": {
      "application/vnd.plotly.v1+json": {
       "config": {
        "plotlyServerURL": "https://plot.ly"
       },
       "data": [
        {
         "alignmentgroup": "True",
         "hovertemplate": "<extra></extra>",
         "legendgroup": "",
         "marker": {
          "color": "#1F77B4"
         },
         "name": "",
         "notched": false,
         "offsetgroup": "",
         "orientation": "v",
         "showlegend": false,
         "type": "box",
         "x0": " ",
         "xaxis": "x",
         "y0": " ",
         "yaxis": "y"
        },
        {
         "name": "openfaas",
         "type": "box",
         "y": [
          7.807814121246338,
          12.087613821029663,
          17.289652109146118,
          24.46199893951416,
          33.03887629508972,
          34.840736865997314,
          38.47519516944885,
          43.90778589248657,
          49.08483672142029,
          54.39754009246826,
          59.70317721366882,
          61.38416790962219,
          63.08141875267029,
          64.87273597717285,
          68.39847993850708,
          71.85880088806152,
          73.57608199119568,
          75.41725206375122,
          77.2138741016388,
          82.82454013824463,
          84.6875491142273,
          86.44404292106628,
          89.89914393424988,
          91.58136105537415,
          93.32137203216553,
          102.20098400115967,
          105.69296407699585,
          112.82243704795837,
          114.53228712081909,
          116.29522585868835,
          118.04123497009277,
          123.41461896896362,
          125.11958408355713,
          132.05217599868774,
          135.58839106559753,
          140.96398305892944,
          142.72079205513,
          144.49861907958984,
          146.21212792396545,
          151.54200196266174,
          153.30522513389587,
          159.08402705192566,
          164.43997502326965,
          166.1464900970459,
          169.67850518226624,
          171.47731828689575,
          176.91811990737915,
          178.64759492874146,
          182.03109097480774,
          187.36453700065613,
          189.12469482421875,
          193.84050798416138,
          200.6211221218109,
          209.75714683532715,
          221.2307288646698,
          223.48325514793396,
          228.06048798561096,
          236.01485586166382,
          243.0256941318512,
          249.60770988464355,
          256.67020082473755,
          258.92538118362427,
          261.2103099822998,
          263.50584602355957,
          268.0467720031738,
          272.550390958786,
          274.76445984840393,
          276.9936637878418,
          279.2447249889374,
          281.5447151660919,
          283.84249782562256,
          286.1454710960388,
          290.81959319114685,
          293.1403269767761,
          295.42074823379517,
          306.9657452106476,
          311.587149143219,
          320.6188950538635,
          322.8584589958191,
          325.1324510574341,
          327.3185908794403,
          334.09581303596497,
          336.3288860321045,
          345.67577600479126,
          350.1470458507538,
          357.0676500797272,
          359.46871399879456,
          361.75347113609314,
          364.0219449996948,
          370.930367231369,
          373.2321410179138,
          380.052268743515,
          386.9802861213684,
          389.23408675193787,
          393.6509711742401,
          395.93202900886536,
          402.9638919830322,
          405.23704290390015,
          409.74049711227417,
          416.49147295951843,
          418.7413868904114,
          423.62715911865234,
          430.9333040714264,
          441.85298109054565,
          454.00300097465515,
          456.5257041454315,
          461.50740003585815,
          468.92980885505676,
          476.0879261493683,
          483.49759793281555,
          491.0213270187378,
          493.4575660228729,
          495.80905199050903,
          498.46201395988464,
          503.2434186935425,
          508.26536202430725,
          510.68909215927124,
          513.1321740150452,
          515.7041940689087,
          518.1313321590424,
          520.5238687992096,
          522.9049501419067,
          527.8330371379852,
          530.3087058067322,
          532.6232290267944,
          544.8271019458771,
          549.5713059902191,
          559.2293698787689,
          561.6219670772552,
          563.9770948886871,
          566.6146330833435,
          573.9134140014648,
          576.3590841293335,
          586.0297582149506,
          590.9639620780945,
          598.4163770675659,
          600.8812029361725,
          603.2991719245911,
          605.7608451843262,
          613.0451700687408,
          615.6614379882812,
          622.9826970100403,
          630.3328537940979,
          632.6596841812134,
          637.4746298789978,
          639.9095449447632,
          647.1225099563599,
          649.5660700798035,
          654.4112000465393,
          661.8625891208649,
          664.2231910228729,
          669.3797030448914,
          677.1088511943817,
          687.3242409229279,
          699.9995229244232,
          702.4989778995514,
          707.6306228637695,
          715.2620508670807,
          723.0259847640991,
          730.71630692482,
          738.1426501274109,
          744.7231569290161,
          747.1901860237122,
          753.334949016571,
          758.3637380599976,
          763.4899830818176,
          765.9492328166962,
          768.4082388877869,
          770.9397881031036,
          773.4649319648743,
          776.1177189350128,
          778.639909029007,
          783.5995411872864,
          786.1527450084686,
          788.6095459461212,
          801.3043789863586,
          806.3343379497528,
          816.3650691509247,
          818.8289120197296,
          821.52596783638,
          823.9297919273376,
          831.6303949356079,
          834.0743749141693,
          844.1572730541229,
          849.2619440555573,
          856.8572490215302,
          859.3551590442657,
          862.0066540241241,
          864.4928178787231,
          872.0722668170929,
          874.6293559074402,
          882.3002669811249,
          889.8287470340729,
          892.3535499572754,
          897.3819119930267,
          899.8470280170441,
          907.5895349979401,
          910.1631901264191,
          915.2021389007568,
          922.8033130168915
         ]
        },
        {
         "name": "fission",
         "type": "box",
         "y": [
          3.12414813041687,
          6.882209062576294,
          12.496003150939941,
          19.709769010543823,
          28.989944219589233,
          34.43090605735779,
          39.84915494918823,
          50.7657151222229,
          56.198253870010376,
          58.04423713684082,
          59.8277587890625,
          61.64252495765686,
          69.06371688842773,
          70.8613440990448,
          74.48854613304138,
          76.27420902252197,
          78.07582497596741,
          87.26027703285217,
          96.36029195785522,
          107.33519196510315,
          110.93652176856995,
          112.78732919692993,
          120.13280510902405,
          127.47990202903748,
          131.2251579761505,
          138.5701949596405,
          140.43970608711243,
          147.71818804740906,
          155.05122113227844,
          160.49213099479675,
          165.95239806175232,
          167.80166792869568,
          173.26604294776917,
          175.14410710334778,
          179.1184778213501,
          184.57810497283936,
          186.23056817054749,
          190.8973958492279,
          197.9339690208435,
          207.1897678375244,
          218.79074788093567,
          225.8455548286438,
          232.77047395706177,
          246.6540539264679,
          253.55419611930847,
          255.91317892074585,
          258.30404901504517,
          260.6147298812866,
          269.85431003570557,
          272.23313903808594,
          276.88762307167053,
          279.20003294944763,
          281.56392002105713,
          293.0973250865936,
          304.68125104904175,
          318.5610520839691,
          323.28502583503723,
          325.5919258594513,
          334.8296160697937,
          344.054230928421,
          348.80657410621643,
          358.11606001853943,
          360.49354815483093,
          369.7404639720917,
          379.1265048980713,
          386.09525084495544,
          393.028929233551,
          395.3848969936371,
          402.44765400886536,
          404.73239302635193,
          409.3109359741211,
          416.274689912796,
          418.3656630516052,
          423.43011116981506,
          430.77502512931824,
          440.6691081523895,
          453.163859128952,
          460.6525499820709,
          468.0863540172577,
          482.94616293907166,
          490.40602803230286,
          492.9333698749542,
          495.46560287475586,
          497.92475986480713,
          507.92103600502014,
          510.3802011013031,
          515.4493300914764,
          517.8268411159515,
          520.2795248031616,
          532.8680310249329,
          545.2019910812378,
          560.1239769458771,
          565.1066720485687,
          567.6636941432953,
          577.6914339065552,
          587.7823798656464,
          592.7964379787445,
          602.6873190402985,
          605.2560160160065,
          615.2339377403259,
          625.144152879715,
          632.6936419010162,
          640.2735569477081,
          642.7098441123962,
          650.2695579528809,
          652.7470421791077,
          657.6942548751831,
          665.3679120540619,
          667.6974079608917,
          672.7832729816437,
          680.4426829814911,
          690.8490128517151,
          703.6326470375061,
          711.5111398696899,
          719.2116279602051,
          736.0977628231049,
          744.0950610637665,
          746.8985991477966,
          749.559800863266,
          752.2603948116302,
          762.779510974884,
          765.420333147049,
          770.6756589412689,
          773.2999370098114,
          776.0287899971008,
          789.1126799583435,
          802.2380971908569,
          817.8257291316986,
          823.0841369628906,
          825.6271159648895,
          835.9474730491638,
          846.3444490432739,
          851.5256209373474,
          861.8179590702057,
          864.4466519355774,
          874.7744100093842,
          885.1010720729828,
          892.8878018856049,
          900.5741572380066,
          903.2069561481476,
          910.9196009635925,
          913.4449768066406,
          918.6854119300842,
          926.3903782367706
         ]
        }
       ],
       "layout": {
        "boxmode": "group",
        "legend": {
         "tracegroupgap": 0
        },
        "margin": {
         "t": 60
        },
        "template": {
         "data": {
          "bar": [
           {
            "error_x": {
             "color": "rgb(36,36,36)"
            },
            "error_y": {
             "color": "rgb(36,36,36)"
            },
            "marker": {
             "line": {
              "color": "white",
              "width": 0.5
             },
             "pattern": {
              "fillmode": "overlay",
              "size": 10,
              "solidity": 0.2
             }
            },
            "type": "bar"
           }
          ],
          "barpolar": [
           {
            "marker": {
             "line": {
              "color": "white",
              "width": 0.5
             },
             "pattern": {
              "fillmode": "overlay",
              "size": 10,
              "solidity": 0.2
             }
            },
            "type": "barpolar"
           }
          ],
          "carpet": [
           {
            "aaxis": {
             "endlinecolor": "rgb(36,36,36)",
             "gridcolor": "white",
             "linecolor": "white",
             "minorgridcolor": "white",
             "startlinecolor": "rgb(36,36,36)"
            },
            "baxis": {
             "endlinecolor": "rgb(36,36,36)",
             "gridcolor": "white",
             "linecolor": "white",
             "minorgridcolor": "white",
             "startlinecolor": "rgb(36,36,36)"
            },
            "type": "carpet"
           }
          ],
          "choropleth": [
           {
            "colorbar": {
             "outlinewidth": 1,
             "tickcolor": "rgb(36,36,36)",
             "ticks": "outside"
            },
            "type": "choropleth"
           }
          ],
          "contour": [
           {
            "colorbar": {
             "outlinewidth": 1,
             "tickcolor": "rgb(36,36,36)",
             "ticks": "outside"
            },
            "colorscale": [
             [
              0,
              "#440154"
             ],
             [
              0.1111111111111111,
              "#482878"
             ],
             [
              0.2222222222222222,
              "#3e4989"
             ],
             [
              0.3333333333333333,
              "#31688e"
             ],
             [
              0.4444444444444444,
              "#26828e"
             ],
             [
              0.5555555555555556,
              "#1f9e89"
             ],
             [
              0.6666666666666666,
              "#35b779"
             ],
             [
              0.7777777777777778,
              "#6ece58"
             ],
             [
              0.8888888888888888,
              "#b5de2b"
             ],
             [
              1,
              "#fde725"
             ]
            ],
            "type": "contour"
           }
          ],
          "contourcarpet": [
           {
            "colorbar": {
             "outlinewidth": 1,
             "tickcolor": "rgb(36,36,36)",
             "ticks": "outside"
            },
            "type": "contourcarpet"
           }
          ],
          "heatmap": [
           {
            "colorbar": {
             "outlinewidth": 1,
             "tickcolor": "rgb(36,36,36)",
             "ticks": "outside"
            },
            "colorscale": [
             [
              0,
              "#440154"
             ],
             [
              0.1111111111111111,
              "#482878"
             ],
             [
              0.2222222222222222,
              "#3e4989"
             ],
             [
              0.3333333333333333,
              "#31688e"
             ],
             [
              0.4444444444444444,
              "#26828e"
             ],
             [
              0.5555555555555556,
              "#1f9e89"
             ],
             [
              0.6666666666666666,
              "#35b779"
             ],
             [
              0.7777777777777778,
              "#6ece58"
             ],
             [
              0.8888888888888888,
              "#b5de2b"
             ],
             [
              1,
              "#fde725"
             ]
            ],
            "type": "heatmap"
           }
          ],
          "heatmapgl": [
           {
            "colorbar": {
             "outlinewidth": 1,
             "tickcolor": "rgb(36,36,36)",
             "ticks": "outside"
            },
            "colorscale": [
             [
              0,
              "#440154"
             ],
             [
              0.1111111111111111,
              "#482878"
             ],
             [
              0.2222222222222222,
              "#3e4989"
             ],
             [
              0.3333333333333333,
              "#31688e"
             ],
             [
              0.4444444444444444,
              "#26828e"
             ],
             [
              0.5555555555555556,
              "#1f9e89"
             ],
             [
              0.6666666666666666,
              "#35b779"
             ],
             [
              0.7777777777777778,
              "#6ece58"
             ],
             [
              0.8888888888888888,
              "#b5de2b"
             ],
             [
              1,
              "#fde725"
             ]
            ],
            "type": "heatmapgl"
           }
          ],
          "histogram": [
           {
            "marker": {
             "line": {
              "color": "white",
              "width": 0.6
             }
            },
            "type": "histogram"
           }
          ],
          "histogram2d": [
           {
            "colorbar": {
             "outlinewidth": 1,
             "tickcolor": "rgb(36,36,36)",
             "ticks": "outside"
            },
            "colorscale": [
             [
              0,
              "#440154"
             ],
             [
              0.1111111111111111,
              "#482878"
             ],
             [
              0.2222222222222222,
              "#3e4989"
             ],
             [
              0.3333333333333333,
              "#31688e"
             ],
             [
              0.4444444444444444,
              "#26828e"
             ],
             [
              0.5555555555555556,
              "#1f9e89"
             ],
             [
              0.6666666666666666,
              "#35b779"
             ],
             [
              0.7777777777777778,
              "#6ece58"
             ],
             [
              0.8888888888888888,
              "#b5de2b"
             ],
             [
              1,
              "#fde725"
             ]
            ],
            "type": "histogram2d"
           }
          ],
          "histogram2dcontour": [
           {
            "colorbar": {
             "outlinewidth": 1,
             "tickcolor": "rgb(36,36,36)",
             "ticks": "outside"
            },
            "colorscale": [
             [
              0,
              "#440154"
             ],
             [
              0.1111111111111111,
              "#482878"
             ],
             [
              0.2222222222222222,
              "#3e4989"
             ],
             [
              0.3333333333333333,
              "#31688e"
             ],
             [
              0.4444444444444444,
              "#26828e"
             ],
             [
              0.5555555555555556,
              "#1f9e89"
             ],
             [
              0.6666666666666666,
              "#35b779"
             ],
             [
              0.7777777777777778,
              "#6ece58"
             ],
             [
              0.8888888888888888,
              "#b5de2b"
             ],
             [
              1,
              "#fde725"
             ]
            ],
            "type": "histogram2dcontour"
           }
          ],
          "mesh3d": [
           {
            "colorbar": {
             "outlinewidth": 1,
             "tickcolor": "rgb(36,36,36)",
             "ticks": "outside"
            },
            "type": "mesh3d"
           }
          ],
          "parcoords": [
           {
            "line": {
             "colorbar": {
              "outlinewidth": 1,
              "tickcolor": "rgb(36,36,36)",
              "ticks": "outside"
             }
            },
            "type": "parcoords"
           }
          ],
          "pie": [
           {
            "automargin": true,
            "type": "pie"
           }
          ],
          "scatter": [
           {
            "fillpattern": {
             "fillmode": "overlay",
             "size": 10,
             "solidity": 0.2
            },
            "type": "scatter"
           }
          ],
          "scatter3d": [
           {
            "line": {
             "colorbar": {
              "outlinewidth": 1,
              "tickcolor": "rgb(36,36,36)",
              "ticks": "outside"
             }
            },
            "marker": {
             "colorbar": {
              "outlinewidth": 1,
              "tickcolor": "rgb(36,36,36)",
              "ticks": "outside"
             }
            },
            "type": "scatter3d"
           }
          ],
          "scattercarpet": [
           {
            "marker": {
             "colorbar": {
              "outlinewidth": 1,
              "tickcolor": "rgb(36,36,36)",
              "ticks": "outside"
             }
            },
            "type": "scattercarpet"
           }
          ],
          "scattergeo": [
           {
            "marker": {
             "colorbar": {
              "outlinewidth": 1,
              "tickcolor": "rgb(36,36,36)",
              "ticks": "outside"
             }
            },
            "type": "scattergeo"
           }
          ],
          "scattergl": [
           {
            "marker": {
             "colorbar": {
              "outlinewidth": 1,
              "tickcolor": "rgb(36,36,36)",
              "ticks": "outside"
             }
            },
            "type": "scattergl"
           }
          ],
          "scattermapbox": [
           {
            "marker": {
             "colorbar": {
              "outlinewidth": 1,
              "tickcolor": "rgb(36,36,36)",
              "ticks": "outside"
             }
            },
            "type": "scattermapbox"
           }
          ],
          "scatterpolar": [
           {
            "marker": {
             "colorbar": {
              "outlinewidth": 1,
              "tickcolor": "rgb(36,36,36)",
              "ticks": "outside"
             }
            },
            "type": "scatterpolar"
           }
          ],
          "scatterpolargl": [
           {
            "marker": {
             "colorbar": {
              "outlinewidth": 1,
              "tickcolor": "rgb(36,36,36)",
              "ticks": "outside"
             }
            },
            "type": "scatterpolargl"
           }
          ],
          "scatterternary": [
           {
            "marker": {
             "colorbar": {
              "outlinewidth": 1,
              "tickcolor": "rgb(36,36,36)",
              "ticks": "outside"
             }
            },
            "type": "scatterternary"
           }
          ],
          "surface": [
           {
            "colorbar": {
             "outlinewidth": 1,
             "tickcolor": "rgb(36,36,36)",
             "ticks": "outside"
            },
            "colorscale": [
             [
              0,
              "#440154"
             ],
             [
              0.1111111111111111,
              "#482878"
             ],
             [
              0.2222222222222222,
              "#3e4989"
             ],
             [
              0.3333333333333333,
              "#31688e"
             ],
             [
              0.4444444444444444,
              "#26828e"
             ],
             [
              0.5555555555555556,
              "#1f9e89"
             ],
             [
              0.6666666666666666,
              "#35b779"
             ],
             [
              0.7777777777777778,
              "#6ece58"
             ],
             [
              0.8888888888888888,
              "#b5de2b"
             ],
             [
              1,
              "#fde725"
             ]
            ],
            "type": "surface"
           }
          ],
          "table": [
           {
            "cells": {
             "fill": {
              "color": "rgb(237,237,237)"
             },
             "line": {
              "color": "white"
             }
            },
            "header": {
             "fill": {
              "color": "rgb(217,217,217)"
             },
             "line": {
              "color": "white"
             }
            },
            "type": "table"
           }
          ]
         },
         "layout": {
          "annotationdefaults": {
           "arrowhead": 0,
           "arrowwidth": 1
          },
          "autotypenumbers": "strict",
          "coloraxis": {
           "colorbar": {
            "outlinewidth": 1,
            "tickcolor": "rgb(36,36,36)",
            "ticks": "outside"
           }
          },
          "colorscale": {
           "diverging": [
            [
             0,
             "rgb(103,0,31)"
            ],
            [
             0.1,
             "rgb(178,24,43)"
            ],
            [
             0.2,
             "rgb(214,96,77)"
            ],
            [
             0.3,
             "rgb(244,165,130)"
            ],
            [
             0.4,
             "rgb(253,219,199)"
            ],
            [
             0.5,
             "rgb(247,247,247)"
            ],
            [
             0.6,
             "rgb(209,229,240)"
            ],
            [
             0.7,
             "rgb(146,197,222)"
            ],
            [
             0.8,
             "rgb(67,147,195)"
            ],
            [
             0.9,
             "rgb(33,102,172)"
            ],
            [
             1,
             "rgb(5,48,97)"
            ]
           ],
           "sequential": [
            [
             0,
             "#440154"
            ],
            [
             0.1111111111111111,
             "#482878"
            ],
            [
             0.2222222222222222,
             "#3e4989"
            ],
            [
             0.3333333333333333,
             "#31688e"
            ],
            [
             0.4444444444444444,
             "#26828e"
            ],
            [
             0.5555555555555556,
             "#1f9e89"
            ],
            [
             0.6666666666666666,
             "#35b779"
            ],
            [
             0.7777777777777778,
             "#6ece58"
            ],
            [
             0.8888888888888888,
             "#b5de2b"
            ],
            [
             1,
             "#fde725"
            ]
           ],
           "sequentialminus": [
            [
             0,
             "#440154"
            ],
            [
             0.1111111111111111,
             "#482878"
            ],
            [
             0.2222222222222222,
             "#3e4989"
            ],
            [
             0.3333333333333333,
             "#31688e"
            ],
            [
             0.4444444444444444,
             "#26828e"
            ],
            [
             0.5555555555555556,
             "#1f9e89"
            ],
            [
             0.6666666666666666,
             "#35b779"
            ],
            [
             0.7777777777777778,
             "#6ece58"
            ],
            [
             0.8888888888888888,
             "#b5de2b"
            ],
            [
             1,
             "#fde725"
            ]
           ]
          },
          "colorway": [
           "#1F77B4",
           "#FF7F0E",
           "#2CA02C",
           "#D62728",
           "#9467BD",
           "#8C564B",
           "#E377C2",
           "#7F7F7F",
           "#BCBD22",
           "#17BECF"
          ],
          "font": {
           "color": "rgb(36,36,36)"
          },
          "geo": {
           "bgcolor": "white",
           "lakecolor": "white",
           "landcolor": "white",
           "showlakes": true,
           "showland": true,
           "subunitcolor": "white"
          },
          "hoverlabel": {
           "align": "left"
          },
          "hovermode": "closest",
          "mapbox": {
           "style": "light"
          },
          "paper_bgcolor": "white",
          "plot_bgcolor": "white",
          "polar": {
           "angularaxis": {
            "gridcolor": "rgb(232,232,232)",
            "linecolor": "rgb(36,36,36)",
            "showgrid": false,
            "showline": true,
            "ticks": "outside"
           },
           "bgcolor": "white",
           "radialaxis": {
            "gridcolor": "rgb(232,232,232)",
            "linecolor": "rgb(36,36,36)",
            "showgrid": false,
            "showline": true,
            "ticks": "outside"
           }
          },
          "scene": {
           "xaxis": {
            "backgroundcolor": "white",
            "gridcolor": "rgb(232,232,232)",
            "gridwidth": 2,
            "linecolor": "rgb(36,36,36)",
            "showbackground": true,
            "showgrid": false,
            "showline": true,
            "ticks": "outside",
            "zeroline": false,
            "zerolinecolor": "rgb(36,36,36)"
           },
           "yaxis": {
            "backgroundcolor": "white",
            "gridcolor": "rgb(232,232,232)",
            "gridwidth": 2,
            "linecolor": "rgb(36,36,36)",
            "showbackground": true,
            "showgrid": false,
            "showline": true,
            "ticks": "outside",
            "zeroline": false,
            "zerolinecolor": "rgb(36,36,36)"
           },
           "zaxis": {
            "backgroundcolor": "white",
            "gridcolor": "rgb(232,232,232)",
            "gridwidth": 2,
            "linecolor": "rgb(36,36,36)",
            "showbackground": true,
            "showgrid": false,
            "showline": true,
            "ticks": "outside",
            "zeroline": false,
            "zerolinecolor": "rgb(36,36,36)"
           }
          },
          "shapedefaults": {
           "fillcolor": "black",
           "line": {
            "width": 0
           },
           "opacity": 0.3
          },
          "ternary": {
           "aaxis": {
            "gridcolor": "rgb(232,232,232)",
            "linecolor": "rgb(36,36,36)",
            "showgrid": false,
            "showline": true,
            "ticks": "outside"
           },
           "baxis": {
            "gridcolor": "rgb(232,232,232)",
            "linecolor": "rgb(36,36,36)",
            "showgrid": false,
            "showline": true,
            "ticks": "outside"
           },
           "bgcolor": "white",
           "caxis": {
            "gridcolor": "rgb(232,232,232)",
            "linecolor": "rgb(36,36,36)",
            "showgrid": false,
            "showline": true,
            "ticks": "outside"
           }
          },
          "title": {
           "x": 0.05
          },
          "xaxis": {
           "automargin": true,
           "gridcolor": "rgb(232,232,232)",
           "linecolor": "rgb(36,36,36)",
           "showgrid": false,
           "showline": true,
           "ticks": "outside",
           "title": {
            "standoff": 15
           },
           "zeroline": false,
           "zerolinecolor": "rgb(36,36,36)"
          },
          "yaxis": {
           "automargin": true,
           "gridcolor": "rgb(232,232,232)",
           "linecolor": "rgb(36,36,36)",
           "showgrid": false,
           "showline": true,
           "ticks": "outside",
           "title": {
            "standoff": 15
           },
           "zeroline": false,
           "zerolinecolor": "rgb(36,36,36)"
          }
         }
        },
        "xaxis": {
         "anchor": "y",
         "domain": [
          0,
          1
         ],
         "title": {
          "text": "Serverless platforms"
         }
        },
        "yaxis": {
         "anchor": "x",
         "domain": [
          0,
          1
         ],
         "title": {
          "text": "Response time (in seconds)"
         }
        }
       }
      }
     },
     "metadata": {},
     "output_type": "display_data"
    }
   ],
   "source": [
    "# Plot only the edge, our bottleneck\n",
    "fig = plot_performance_comparison_box(topics_fission[0], topics_openfaas[0])\n",
    "fig.write_image(\"out/performance_comparison_box.png\")\n",
    "fig.show()"
   ]
  }
 ],
 "metadata": {
  "kernelspec": {
   "display_name": "Python 3 (ipykernel)",
   "language": "python",
   "name": "python3"
  },
  "language_info": {
   "codemirror_mode": {
    "name": "ipython",
    "version": 3
   },
   "file_extension": ".py",
   "mimetype": "text/x-python",
   "name": "python",
   "nbconvert_exporter": "python",
   "pygments_lexer": "ipython3",
   "version": "3.11.3"
  },
  "vscode": {
   "interpreter": {
    "hash": "91b549a695b553be77c617bbf5a7f77aa358b27da55fb98fdae053971d2e392b"
   }
  }
 },
 "nbformat": 4,
 "nbformat_minor": 2
}
